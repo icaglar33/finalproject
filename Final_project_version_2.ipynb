{
  "nbformat": 4,
  "nbformat_minor": 0,
  "metadata": {
    "colab": {
      "provenance": [],
      "include_colab_link": true
    },
    "kernelspec": {
      "name": "python3",
      "display_name": "Python 3"
    },
    "language_info": {
      "name": "python"
    },
    "widgets": {
      "application/vnd.jupyter.widget-state+json": {
        "277302ef820a4f7593addd6dbed39e38": {
          "model_module": "@jupyter-widgets/controls",
          "model_name": "HBoxModel",
          "model_module_version": "1.5.0",
          "state": {
            "_dom_classes": [],
            "_model_module": "@jupyter-widgets/controls",
            "_model_module_version": "1.5.0",
            "_model_name": "HBoxModel",
            "_view_count": null,
            "_view_module": "@jupyter-widgets/controls",
            "_view_module_version": "1.5.0",
            "_view_name": "HBoxView",
            "box_style": "",
            "children": [
              "IPY_MODEL_6eb5d42df802427a998d542fe958f8f1",
              "IPY_MODEL_d51cdd6c68734c15ab4cdd0748caf697",
              "IPY_MODEL_a552e5873e95464db10cc51843be1f47"
            ],
            "layout": "IPY_MODEL_168da2e85073421a9f1af4a7b8fb690e"
          }
        },
        "6eb5d42df802427a998d542fe958f8f1": {
          "model_module": "@jupyter-widgets/controls",
          "model_name": "HTMLModel",
          "model_module_version": "1.5.0",
          "state": {
            "_dom_classes": [],
            "_model_module": "@jupyter-widgets/controls",
            "_model_module_version": "1.5.0",
            "_model_name": "HTMLModel",
            "_view_count": null,
            "_view_module": "@jupyter-widgets/controls",
            "_view_module_version": "1.5.0",
            "_view_name": "HTMLView",
            "description": "",
            "description_tooltip": null,
            "layout": "IPY_MODEL_81745dcb3abe40f386279b6c2d32a930",
            "placeholder": "​",
            "style": "IPY_MODEL_47745083b46647109de9afb00eda1127",
            "value": "Summarize dataset: 100%"
          }
        },
        "d51cdd6c68734c15ab4cdd0748caf697": {
          "model_module": "@jupyter-widgets/controls",
          "model_name": "FloatProgressModel",
          "model_module_version": "1.5.0",
          "state": {
            "_dom_classes": [],
            "_model_module": "@jupyter-widgets/controls",
            "_model_module_version": "1.5.0",
            "_model_name": "FloatProgressModel",
            "_view_count": null,
            "_view_module": "@jupyter-widgets/controls",
            "_view_module_version": "1.5.0",
            "_view_name": "ProgressView",
            "bar_style": "success",
            "description": "",
            "description_tooltip": null,
            "layout": "IPY_MODEL_563e1b07d77842e4a12f53ce6ed70269",
            "max": 5,
            "min": 0,
            "orientation": "horizontal",
            "style": "IPY_MODEL_2ae6f7e94922402490722f9a7219807c",
            "value": 5
          }
        },
        "a552e5873e95464db10cc51843be1f47": {
          "model_module": "@jupyter-widgets/controls",
          "model_name": "HTMLModel",
          "model_module_version": "1.5.0",
          "state": {
            "_dom_classes": [],
            "_model_module": "@jupyter-widgets/controls",
            "_model_module_version": "1.5.0",
            "_model_name": "HTMLModel",
            "_view_count": null,
            "_view_module": "@jupyter-widgets/controls",
            "_view_module_version": "1.5.0",
            "_view_name": "HTMLView",
            "description": "",
            "description_tooltip": null,
            "layout": "IPY_MODEL_d15adaebf98f48da8b641de19f9ad42c",
            "placeholder": "​",
            "style": "IPY_MODEL_73b6bb82f09f4e9fb236c46a3d5f3cae",
            "value": " 52/52 [00:18&lt;00:00,  1.65it/s, Completed]"
          }
        },
        "168da2e85073421a9f1af4a7b8fb690e": {
          "model_module": "@jupyter-widgets/base",
          "model_name": "LayoutModel",
          "model_module_version": "1.2.0",
          "state": {
            "_model_module": "@jupyter-widgets/base",
            "_model_module_version": "1.2.0",
            "_model_name": "LayoutModel",
            "_view_count": null,
            "_view_module": "@jupyter-widgets/base",
            "_view_module_version": "1.2.0",
            "_view_name": "LayoutView",
            "align_content": null,
            "align_items": null,
            "align_self": null,
            "border": null,
            "bottom": null,
            "display": null,
            "flex": null,
            "flex_flow": null,
            "grid_area": null,
            "grid_auto_columns": null,
            "grid_auto_flow": null,
            "grid_auto_rows": null,
            "grid_column": null,
            "grid_gap": null,
            "grid_row": null,
            "grid_template_areas": null,
            "grid_template_columns": null,
            "grid_template_rows": null,
            "height": null,
            "justify_content": null,
            "justify_items": null,
            "left": null,
            "margin": null,
            "max_height": null,
            "max_width": null,
            "min_height": null,
            "min_width": null,
            "object_fit": null,
            "object_position": null,
            "order": null,
            "overflow": null,
            "overflow_x": null,
            "overflow_y": null,
            "padding": null,
            "right": null,
            "top": null,
            "visibility": null,
            "width": null
          }
        },
        "81745dcb3abe40f386279b6c2d32a930": {
          "model_module": "@jupyter-widgets/base",
          "model_name": "LayoutModel",
          "model_module_version": "1.2.0",
          "state": {
            "_model_module": "@jupyter-widgets/base",
            "_model_module_version": "1.2.0",
            "_model_name": "LayoutModel",
            "_view_count": null,
            "_view_module": "@jupyter-widgets/base",
            "_view_module_version": "1.2.0",
            "_view_name": "LayoutView",
            "align_content": null,
            "align_items": null,
            "align_self": null,
            "border": null,
            "bottom": null,
            "display": null,
            "flex": null,
            "flex_flow": null,
            "grid_area": null,
            "grid_auto_columns": null,
            "grid_auto_flow": null,
            "grid_auto_rows": null,
            "grid_column": null,
            "grid_gap": null,
            "grid_row": null,
            "grid_template_areas": null,
            "grid_template_columns": null,
            "grid_template_rows": null,
            "height": null,
            "justify_content": null,
            "justify_items": null,
            "left": null,
            "margin": null,
            "max_height": null,
            "max_width": null,
            "min_height": null,
            "min_width": null,
            "object_fit": null,
            "object_position": null,
            "order": null,
            "overflow": null,
            "overflow_x": null,
            "overflow_y": null,
            "padding": null,
            "right": null,
            "top": null,
            "visibility": null,
            "width": null
          }
        },
        "47745083b46647109de9afb00eda1127": {
          "model_module": "@jupyter-widgets/controls",
          "model_name": "DescriptionStyleModel",
          "model_module_version": "1.5.0",
          "state": {
            "_model_module": "@jupyter-widgets/controls",
            "_model_module_version": "1.5.0",
            "_model_name": "DescriptionStyleModel",
            "_view_count": null,
            "_view_module": "@jupyter-widgets/base",
            "_view_module_version": "1.2.0",
            "_view_name": "StyleView",
            "description_width": ""
          }
        },
        "563e1b07d77842e4a12f53ce6ed70269": {
          "model_module": "@jupyter-widgets/base",
          "model_name": "LayoutModel",
          "model_module_version": "1.2.0",
          "state": {
            "_model_module": "@jupyter-widgets/base",
            "_model_module_version": "1.2.0",
            "_model_name": "LayoutModel",
            "_view_count": null,
            "_view_module": "@jupyter-widgets/base",
            "_view_module_version": "1.2.0",
            "_view_name": "LayoutView",
            "align_content": null,
            "align_items": null,
            "align_self": null,
            "border": null,
            "bottom": null,
            "display": null,
            "flex": null,
            "flex_flow": null,
            "grid_area": null,
            "grid_auto_columns": null,
            "grid_auto_flow": null,
            "grid_auto_rows": null,
            "grid_column": null,
            "grid_gap": null,
            "grid_row": null,
            "grid_template_areas": null,
            "grid_template_columns": null,
            "grid_template_rows": null,
            "height": null,
            "justify_content": null,
            "justify_items": null,
            "left": null,
            "margin": null,
            "max_height": null,
            "max_width": null,
            "min_height": null,
            "min_width": null,
            "object_fit": null,
            "object_position": null,
            "order": null,
            "overflow": null,
            "overflow_x": null,
            "overflow_y": null,
            "padding": null,
            "right": null,
            "top": null,
            "visibility": null,
            "width": null
          }
        },
        "2ae6f7e94922402490722f9a7219807c": {
          "model_module": "@jupyter-widgets/controls",
          "model_name": "ProgressStyleModel",
          "model_module_version": "1.5.0",
          "state": {
            "_model_module": "@jupyter-widgets/controls",
            "_model_module_version": "1.5.0",
            "_model_name": "ProgressStyleModel",
            "_view_count": null,
            "_view_module": "@jupyter-widgets/base",
            "_view_module_version": "1.2.0",
            "_view_name": "StyleView",
            "bar_color": null,
            "description_width": ""
          }
        },
        "d15adaebf98f48da8b641de19f9ad42c": {
          "model_module": "@jupyter-widgets/base",
          "model_name": "LayoutModel",
          "model_module_version": "1.2.0",
          "state": {
            "_model_module": "@jupyter-widgets/base",
            "_model_module_version": "1.2.0",
            "_model_name": "LayoutModel",
            "_view_count": null,
            "_view_module": "@jupyter-widgets/base",
            "_view_module_version": "1.2.0",
            "_view_name": "LayoutView",
            "align_content": null,
            "align_items": null,
            "align_self": null,
            "border": null,
            "bottom": null,
            "display": null,
            "flex": null,
            "flex_flow": null,
            "grid_area": null,
            "grid_auto_columns": null,
            "grid_auto_flow": null,
            "grid_auto_rows": null,
            "grid_column": null,
            "grid_gap": null,
            "grid_row": null,
            "grid_template_areas": null,
            "grid_template_columns": null,
            "grid_template_rows": null,
            "height": null,
            "justify_content": null,
            "justify_items": null,
            "left": null,
            "margin": null,
            "max_height": null,
            "max_width": null,
            "min_height": null,
            "min_width": null,
            "object_fit": null,
            "object_position": null,
            "order": null,
            "overflow": null,
            "overflow_x": null,
            "overflow_y": null,
            "padding": null,
            "right": null,
            "top": null,
            "visibility": null,
            "width": null
          }
        },
        "73b6bb82f09f4e9fb236c46a3d5f3cae": {
          "model_module": "@jupyter-widgets/controls",
          "model_name": "DescriptionStyleModel",
          "model_module_version": "1.5.0",
          "state": {
            "_model_module": "@jupyter-widgets/controls",
            "_model_module_version": "1.5.0",
            "_model_name": "DescriptionStyleModel",
            "_view_count": null,
            "_view_module": "@jupyter-widgets/base",
            "_view_module_version": "1.2.0",
            "_view_name": "StyleView",
            "description_width": ""
          }
        },
        "4e6dc56715134024a9dc0ad833a25290": {
          "model_module": "@jupyter-widgets/controls",
          "model_name": "HBoxModel",
          "model_module_version": "1.5.0",
          "state": {
            "_dom_classes": [],
            "_model_module": "@jupyter-widgets/controls",
            "_model_module_version": "1.5.0",
            "_model_name": "HBoxModel",
            "_view_count": null,
            "_view_module": "@jupyter-widgets/controls",
            "_view_module_version": "1.5.0",
            "_view_name": "HBoxView",
            "box_style": "",
            "children": [
              "IPY_MODEL_7c712a69a357489fae0fef6ceeacf401",
              "IPY_MODEL_52aba6f571254ad1b45bc643bc7249d1",
              "IPY_MODEL_ccd6144ad71f4ec1aab92752f40037e9"
            ],
            "layout": "IPY_MODEL_f1081d80b2e447c0b2d795ad704052dd"
          }
        },
        "7c712a69a357489fae0fef6ceeacf401": {
          "model_module": "@jupyter-widgets/controls",
          "model_name": "HTMLModel",
          "model_module_version": "1.5.0",
          "state": {
            "_dom_classes": [],
            "_model_module": "@jupyter-widgets/controls",
            "_model_module_version": "1.5.0",
            "_model_name": "HTMLModel",
            "_view_count": null,
            "_view_module": "@jupyter-widgets/controls",
            "_view_module_version": "1.5.0",
            "_view_name": "HTMLView",
            "description": "",
            "description_tooltip": null,
            "layout": "IPY_MODEL_e7fd03bc47be44099c3df6fc6abfa623",
            "placeholder": "​",
            "style": "IPY_MODEL_18cd489079264e0d96d49b28c112da2f",
            "value": "Generate report structure: 100%"
          }
        },
        "52aba6f571254ad1b45bc643bc7249d1": {
          "model_module": "@jupyter-widgets/controls",
          "model_name": "FloatProgressModel",
          "model_module_version": "1.5.0",
          "state": {
            "_dom_classes": [],
            "_model_module": "@jupyter-widgets/controls",
            "_model_module_version": "1.5.0",
            "_model_name": "FloatProgressModel",
            "_view_count": null,
            "_view_module": "@jupyter-widgets/controls",
            "_view_module_version": "1.5.0",
            "_view_name": "ProgressView",
            "bar_style": "success",
            "description": "",
            "description_tooltip": null,
            "layout": "IPY_MODEL_a2106d82459d44299538ee8daa3b09d9",
            "max": 1,
            "min": 0,
            "orientation": "horizontal",
            "style": "IPY_MODEL_962b293fa3b7433e9b430efd09fdca34",
            "value": 1
          }
        },
        "ccd6144ad71f4ec1aab92752f40037e9": {
          "model_module": "@jupyter-widgets/controls",
          "model_name": "HTMLModel",
          "model_module_version": "1.5.0",
          "state": {
            "_dom_classes": [],
            "_model_module": "@jupyter-widgets/controls",
            "_model_module_version": "1.5.0",
            "_model_name": "HTMLModel",
            "_view_count": null,
            "_view_module": "@jupyter-widgets/controls",
            "_view_module_version": "1.5.0",
            "_view_name": "HTMLView",
            "description": "",
            "description_tooltip": null,
            "layout": "IPY_MODEL_c644155054a3437395ffc0d8a14ee677",
            "placeholder": "​",
            "style": "IPY_MODEL_bc65973a605e4655a70c8d523c015b17",
            "value": " 1/1 [00:09&lt;00:00,  9.55s/it]"
          }
        },
        "f1081d80b2e447c0b2d795ad704052dd": {
          "model_module": "@jupyter-widgets/base",
          "model_name": "LayoutModel",
          "model_module_version": "1.2.0",
          "state": {
            "_model_module": "@jupyter-widgets/base",
            "_model_module_version": "1.2.0",
            "_model_name": "LayoutModel",
            "_view_count": null,
            "_view_module": "@jupyter-widgets/base",
            "_view_module_version": "1.2.0",
            "_view_name": "LayoutView",
            "align_content": null,
            "align_items": null,
            "align_self": null,
            "border": null,
            "bottom": null,
            "display": null,
            "flex": null,
            "flex_flow": null,
            "grid_area": null,
            "grid_auto_columns": null,
            "grid_auto_flow": null,
            "grid_auto_rows": null,
            "grid_column": null,
            "grid_gap": null,
            "grid_row": null,
            "grid_template_areas": null,
            "grid_template_columns": null,
            "grid_template_rows": null,
            "height": null,
            "justify_content": null,
            "justify_items": null,
            "left": null,
            "margin": null,
            "max_height": null,
            "max_width": null,
            "min_height": null,
            "min_width": null,
            "object_fit": null,
            "object_position": null,
            "order": null,
            "overflow": null,
            "overflow_x": null,
            "overflow_y": null,
            "padding": null,
            "right": null,
            "top": null,
            "visibility": null,
            "width": null
          }
        },
        "e7fd03bc47be44099c3df6fc6abfa623": {
          "model_module": "@jupyter-widgets/base",
          "model_name": "LayoutModel",
          "model_module_version": "1.2.0",
          "state": {
            "_model_module": "@jupyter-widgets/base",
            "_model_module_version": "1.2.0",
            "_model_name": "LayoutModel",
            "_view_count": null,
            "_view_module": "@jupyter-widgets/base",
            "_view_module_version": "1.2.0",
            "_view_name": "LayoutView",
            "align_content": null,
            "align_items": null,
            "align_self": null,
            "border": null,
            "bottom": null,
            "display": null,
            "flex": null,
            "flex_flow": null,
            "grid_area": null,
            "grid_auto_columns": null,
            "grid_auto_flow": null,
            "grid_auto_rows": null,
            "grid_column": null,
            "grid_gap": null,
            "grid_row": null,
            "grid_template_areas": null,
            "grid_template_columns": null,
            "grid_template_rows": null,
            "height": null,
            "justify_content": null,
            "justify_items": null,
            "left": null,
            "margin": null,
            "max_height": null,
            "max_width": null,
            "min_height": null,
            "min_width": null,
            "object_fit": null,
            "object_position": null,
            "order": null,
            "overflow": null,
            "overflow_x": null,
            "overflow_y": null,
            "padding": null,
            "right": null,
            "top": null,
            "visibility": null,
            "width": null
          }
        },
        "18cd489079264e0d96d49b28c112da2f": {
          "model_module": "@jupyter-widgets/controls",
          "model_name": "DescriptionStyleModel",
          "model_module_version": "1.5.0",
          "state": {
            "_model_module": "@jupyter-widgets/controls",
            "_model_module_version": "1.5.0",
            "_model_name": "DescriptionStyleModel",
            "_view_count": null,
            "_view_module": "@jupyter-widgets/base",
            "_view_module_version": "1.2.0",
            "_view_name": "StyleView",
            "description_width": ""
          }
        },
        "a2106d82459d44299538ee8daa3b09d9": {
          "model_module": "@jupyter-widgets/base",
          "model_name": "LayoutModel",
          "model_module_version": "1.2.0",
          "state": {
            "_model_module": "@jupyter-widgets/base",
            "_model_module_version": "1.2.0",
            "_model_name": "LayoutModel",
            "_view_count": null,
            "_view_module": "@jupyter-widgets/base",
            "_view_module_version": "1.2.0",
            "_view_name": "LayoutView",
            "align_content": null,
            "align_items": null,
            "align_self": null,
            "border": null,
            "bottom": null,
            "display": null,
            "flex": null,
            "flex_flow": null,
            "grid_area": null,
            "grid_auto_columns": null,
            "grid_auto_flow": null,
            "grid_auto_rows": null,
            "grid_column": null,
            "grid_gap": null,
            "grid_row": null,
            "grid_template_areas": null,
            "grid_template_columns": null,
            "grid_template_rows": null,
            "height": null,
            "justify_content": null,
            "justify_items": null,
            "left": null,
            "margin": null,
            "max_height": null,
            "max_width": null,
            "min_height": null,
            "min_width": null,
            "object_fit": null,
            "object_position": null,
            "order": null,
            "overflow": null,
            "overflow_x": null,
            "overflow_y": null,
            "padding": null,
            "right": null,
            "top": null,
            "visibility": null,
            "width": null
          }
        },
        "962b293fa3b7433e9b430efd09fdca34": {
          "model_module": "@jupyter-widgets/controls",
          "model_name": "ProgressStyleModel",
          "model_module_version": "1.5.0",
          "state": {
            "_model_module": "@jupyter-widgets/controls",
            "_model_module_version": "1.5.0",
            "_model_name": "ProgressStyleModel",
            "_view_count": null,
            "_view_module": "@jupyter-widgets/base",
            "_view_module_version": "1.2.0",
            "_view_name": "StyleView",
            "bar_color": null,
            "description_width": ""
          }
        },
        "c644155054a3437395ffc0d8a14ee677": {
          "model_module": "@jupyter-widgets/base",
          "model_name": "LayoutModel",
          "model_module_version": "1.2.0",
          "state": {
            "_model_module": "@jupyter-widgets/base",
            "_model_module_version": "1.2.0",
            "_model_name": "LayoutModel",
            "_view_count": null,
            "_view_module": "@jupyter-widgets/base",
            "_view_module_version": "1.2.0",
            "_view_name": "LayoutView",
            "align_content": null,
            "align_items": null,
            "align_self": null,
            "border": null,
            "bottom": null,
            "display": null,
            "flex": null,
            "flex_flow": null,
            "grid_area": null,
            "grid_auto_columns": null,
            "grid_auto_flow": null,
            "grid_auto_rows": null,
            "grid_column": null,
            "grid_gap": null,
            "grid_row": null,
            "grid_template_areas": null,
            "grid_template_columns": null,
            "grid_template_rows": null,
            "height": null,
            "justify_content": null,
            "justify_items": null,
            "left": null,
            "margin": null,
            "max_height": null,
            "max_width": null,
            "min_height": null,
            "min_width": null,
            "object_fit": null,
            "object_position": null,
            "order": null,
            "overflow": null,
            "overflow_x": null,
            "overflow_y": null,
            "padding": null,
            "right": null,
            "top": null,
            "visibility": null,
            "width": null
          }
        },
        "bc65973a605e4655a70c8d523c015b17": {
          "model_module": "@jupyter-widgets/controls",
          "model_name": "DescriptionStyleModel",
          "model_module_version": "1.5.0",
          "state": {
            "_model_module": "@jupyter-widgets/controls",
            "_model_module_version": "1.5.0",
            "_model_name": "DescriptionStyleModel",
            "_view_count": null,
            "_view_module": "@jupyter-widgets/base",
            "_view_module_version": "1.2.0",
            "_view_name": "StyleView",
            "description_width": ""
          }
        },
        "c297e0bfd1444543ba62c55a59831310": {
          "model_module": "@jupyter-widgets/controls",
          "model_name": "HBoxModel",
          "model_module_version": "1.5.0",
          "state": {
            "_dom_classes": [],
            "_model_module": "@jupyter-widgets/controls",
            "_model_module_version": "1.5.0",
            "_model_name": "HBoxModel",
            "_view_count": null,
            "_view_module": "@jupyter-widgets/controls",
            "_view_module_version": "1.5.0",
            "_view_name": "HBoxView",
            "box_style": "",
            "children": [
              "IPY_MODEL_aae087447d1e4b538cea18cdf6703a58",
              "IPY_MODEL_99df2d7453da400196742b9ce6bc6a15",
              "IPY_MODEL_64c1a2bb1af447099f2c0651372dedaa"
            ],
            "layout": "IPY_MODEL_03952cd12fb54878b9b4b6cf00810998"
          }
        },
        "aae087447d1e4b538cea18cdf6703a58": {
          "model_module": "@jupyter-widgets/controls",
          "model_name": "HTMLModel",
          "model_module_version": "1.5.0",
          "state": {
            "_dom_classes": [],
            "_model_module": "@jupyter-widgets/controls",
            "_model_module_version": "1.5.0",
            "_model_name": "HTMLModel",
            "_view_count": null,
            "_view_module": "@jupyter-widgets/controls",
            "_view_module_version": "1.5.0",
            "_view_name": "HTMLView",
            "description": "",
            "description_tooltip": null,
            "layout": "IPY_MODEL_bd3effb5c6d94588930eee7c838071f6",
            "placeholder": "​",
            "style": "IPY_MODEL_3cdde6680c9148fba186822966205c8a",
            "value": "Render HTML: 100%"
          }
        },
        "99df2d7453da400196742b9ce6bc6a15": {
          "model_module": "@jupyter-widgets/controls",
          "model_name": "FloatProgressModel",
          "model_module_version": "1.5.0",
          "state": {
            "_dom_classes": [],
            "_model_module": "@jupyter-widgets/controls",
            "_model_module_version": "1.5.0",
            "_model_name": "FloatProgressModel",
            "_view_count": null,
            "_view_module": "@jupyter-widgets/controls",
            "_view_module_version": "1.5.0",
            "_view_name": "ProgressView",
            "bar_style": "success",
            "description": "",
            "description_tooltip": null,
            "layout": "IPY_MODEL_248bc03ccea94c90a25a8803a523623e",
            "max": 1,
            "min": 0,
            "orientation": "horizontal",
            "style": "IPY_MODEL_38b1fc05a7fd42108ed2b42d12ebbadc",
            "value": 1
          }
        },
        "64c1a2bb1af447099f2c0651372dedaa": {
          "model_module": "@jupyter-widgets/controls",
          "model_name": "HTMLModel",
          "model_module_version": "1.5.0",
          "state": {
            "_dom_classes": [],
            "_model_module": "@jupyter-widgets/controls",
            "_model_module_version": "1.5.0",
            "_model_name": "HTMLModel",
            "_view_count": null,
            "_view_module": "@jupyter-widgets/controls",
            "_view_module_version": "1.5.0",
            "_view_name": "HTMLView",
            "description": "",
            "description_tooltip": null,
            "layout": "IPY_MODEL_2591ddcefa1340be8481fbfa8f728606",
            "placeholder": "​",
            "style": "IPY_MODEL_a82e742c9573427e96eff001b82835e5",
            "value": " 1/1 [00:03&lt;00:00,  3.28s/it]"
          }
        },
        "03952cd12fb54878b9b4b6cf00810998": {
          "model_module": "@jupyter-widgets/base",
          "model_name": "LayoutModel",
          "model_module_version": "1.2.0",
          "state": {
            "_model_module": "@jupyter-widgets/base",
            "_model_module_version": "1.2.0",
            "_model_name": "LayoutModel",
            "_view_count": null,
            "_view_module": "@jupyter-widgets/base",
            "_view_module_version": "1.2.0",
            "_view_name": "LayoutView",
            "align_content": null,
            "align_items": null,
            "align_self": null,
            "border": null,
            "bottom": null,
            "display": null,
            "flex": null,
            "flex_flow": null,
            "grid_area": null,
            "grid_auto_columns": null,
            "grid_auto_flow": null,
            "grid_auto_rows": null,
            "grid_column": null,
            "grid_gap": null,
            "grid_row": null,
            "grid_template_areas": null,
            "grid_template_columns": null,
            "grid_template_rows": null,
            "height": null,
            "justify_content": null,
            "justify_items": null,
            "left": null,
            "margin": null,
            "max_height": null,
            "max_width": null,
            "min_height": null,
            "min_width": null,
            "object_fit": null,
            "object_position": null,
            "order": null,
            "overflow": null,
            "overflow_x": null,
            "overflow_y": null,
            "padding": null,
            "right": null,
            "top": null,
            "visibility": null,
            "width": null
          }
        },
        "bd3effb5c6d94588930eee7c838071f6": {
          "model_module": "@jupyter-widgets/base",
          "model_name": "LayoutModel",
          "model_module_version": "1.2.0",
          "state": {
            "_model_module": "@jupyter-widgets/base",
            "_model_module_version": "1.2.0",
            "_model_name": "LayoutModel",
            "_view_count": null,
            "_view_module": "@jupyter-widgets/base",
            "_view_module_version": "1.2.0",
            "_view_name": "LayoutView",
            "align_content": null,
            "align_items": null,
            "align_self": null,
            "border": null,
            "bottom": null,
            "display": null,
            "flex": null,
            "flex_flow": null,
            "grid_area": null,
            "grid_auto_columns": null,
            "grid_auto_flow": null,
            "grid_auto_rows": null,
            "grid_column": null,
            "grid_gap": null,
            "grid_row": null,
            "grid_template_areas": null,
            "grid_template_columns": null,
            "grid_template_rows": null,
            "height": null,
            "justify_content": null,
            "justify_items": null,
            "left": null,
            "margin": null,
            "max_height": null,
            "max_width": null,
            "min_height": null,
            "min_width": null,
            "object_fit": null,
            "object_position": null,
            "order": null,
            "overflow": null,
            "overflow_x": null,
            "overflow_y": null,
            "padding": null,
            "right": null,
            "top": null,
            "visibility": null,
            "width": null
          }
        },
        "3cdde6680c9148fba186822966205c8a": {
          "model_module": "@jupyter-widgets/controls",
          "model_name": "DescriptionStyleModel",
          "model_module_version": "1.5.0",
          "state": {
            "_model_module": "@jupyter-widgets/controls",
            "_model_module_version": "1.5.0",
            "_model_name": "DescriptionStyleModel",
            "_view_count": null,
            "_view_module": "@jupyter-widgets/base",
            "_view_module_version": "1.2.0",
            "_view_name": "StyleView",
            "description_width": ""
          }
        },
        "248bc03ccea94c90a25a8803a523623e": {
          "model_module": "@jupyter-widgets/base",
          "model_name": "LayoutModel",
          "model_module_version": "1.2.0",
          "state": {
            "_model_module": "@jupyter-widgets/base",
            "_model_module_version": "1.2.0",
            "_model_name": "LayoutModel",
            "_view_count": null,
            "_view_module": "@jupyter-widgets/base",
            "_view_module_version": "1.2.0",
            "_view_name": "LayoutView",
            "align_content": null,
            "align_items": null,
            "align_self": null,
            "border": null,
            "bottom": null,
            "display": null,
            "flex": null,
            "flex_flow": null,
            "grid_area": null,
            "grid_auto_columns": null,
            "grid_auto_flow": null,
            "grid_auto_rows": null,
            "grid_column": null,
            "grid_gap": null,
            "grid_row": null,
            "grid_template_areas": null,
            "grid_template_columns": null,
            "grid_template_rows": null,
            "height": null,
            "justify_content": null,
            "justify_items": null,
            "left": null,
            "margin": null,
            "max_height": null,
            "max_width": null,
            "min_height": null,
            "min_width": null,
            "object_fit": null,
            "object_position": null,
            "order": null,
            "overflow": null,
            "overflow_x": null,
            "overflow_y": null,
            "padding": null,
            "right": null,
            "top": null,
            "visibility": null,
            "width": null
          }
        },
        "38b1fc05a7fd42108ed2b42d12ebbadc": {
          "model_module": "@jupyter-widgets/controls",
          "model_name": "ProgressStyleModel",
          "model_module_version": "1.5.0",
          "state": {
            "_model_module": "@jupyter-widgets/controls",
            "_model_module_version": "1.5.0",
            "_model_name": "ProgressStyleModel",
            "_view_count": null,
            "_view_module": "@jupyter-widgets/base",
            "_view_module_version": "1.2.0",
            "_view_name": "StyleView",
            "bar_color": null,
            "description_width": ""
          }
        },
        "2591ddcefa1340be8481fbfa8f728606": {
          "model_module": "@jupyter-widgets/base",
          "model_name": "LayoutModel",
          "model_module_version": "1.2.0",
          "state": {
            "_model_module": "@jupyter-widgets/base",
            "_model_module_version": "1.2.0",
            "_model_name": "LayoutModel",
            "_view_count": null,
            "_view_module": "@jupyter-widgets/base",
            "_view_module_version": "1.2.0",
            "_view_name": "LayoutView",
            "align_content": null,
            "align_items": null,
            "align_self": null,
            "border": null,
            "bottom": null,
            "display": null,
            "flex": null,
            "flex_flow": null,
            "grid_area": null,
            "grid_auto_columns": null,
            "grid_auto_flow": null,
            "grid_auto_rows": null,
            "grid_column": null,
            "grid_gap": null,
            "grid_row": null,
            "grid_template_areas": null,
            "grid_template_columns": null,
            "grid_template_rows": null,
            "height": null,
            "justify_content": null,
            "justify_items": null,
            "left": null,
            "margin": null,
            "max_height": null,
            "max_width": null,
            "min_height": null,
            "min_width": null,
            "object_fit": null,
            "object_position": null,
            "order": null,
            "overflow": null,
            "overflow_x": null,
            "overflow_y": null,
            "padding": null,
            "right": null,
            "top": null,
            "visibility": null,
            "width": null
          }
        },
        "a82e742c9573427e96eff001b82835e5": {
          "model_module": "@jupyter-widgets/controls",
          "model_name": "DescriptionStyleModel",
          "model_module_version": "1.5.0",
          "state": {
            "_model_module": "@jupyter-widgets/controls",
            "_model_module_version": "1.5.0",
            "_model_name": "DescriptionStyleModel",
            "_view_count": null,
            "_view_module": "@jupyter-widgets/base",
            "_view_module_version": "1.2.0",
            "_view_name": "StyleView",
            "description_width": ""
          }
        },
        "9e13528091eb4945b86ce57947d52ae5": {
          "model_module": "@jupyter-widgets/controls",
          "model_name": "HBoxModel",
          "model_module_version": "1.5.0",
          "state": {
            "_dom_classes": [],
            "_model_module": "@jupyter-widgets/controls",
            "_model_module_version": "1.5.0",
            "_model_name": "HBoxModel",
            "_view_count": null,
            "_view_module": "@jupyter-widgets/controls",
            "_view_module_version": "1.5.0",
            "_view_name": "HBoxView",
            "box_style": "",
            "children": [
              "IPY_MODEL_9ce57a0fd3ed44bbb4f5d2b0e6ae53cd",
              "IPY_MODEL_582d4c534a5a45cf83cb951aedf5881b",
              "IPY_MODEL_173a3823ebc34a2593fc717cafcbc3c3"
            ],
            "layout": "IPY_MODEL_56a048113d9a4333b9dbdd1613575fe1"
          }
        },
        "9ce57a0fd3ed44bbb4f5d2b0e6ae53cd": {
          "model_module": "@jupyter-widgets/controls",
          "model_name": "HTMLModel",
          "model_module_version": "1.5.0",
          "state": {
            "_dom_classes": [],
            "_model_module": "@jupyter-widgets/controls",
            "_model_module_version": "1.5.0",
            "_model_name": "HTMLModel",
            "_view_count": null,
            "_view_module": "@jupyter-widgets/controls",
            "_view_module_version": "1.5.0",
            "_view_name": "HTMLView",
            "description": "",
            "description_tooltip": null,
            "layout": "IPY_MODEL_9bf0d7f15e944da982cb2553348b5735",
            "placeholder": "​",
            "style": "IPY_MODEL_5e63127a02964b5d9d76ec0c477bfba3",
            "value": "Export report to file: 100%"
          }
        },
        "582d4c534a5a45cf83cb951aedf5881b": {
          "model_module": "@jupyter-widgets/controls",
          "model_name": "FloatProgressModel",
          "model_module_version": "1.5.0",
          "state": {
            "_dom_classes": [],
            "_model_module": "@jupyter-widgets/controls",
            "_model_module_version": "1.5.0",
            "_model_name": "FloatProgressModel",
            "_view_count": null,
            "_view_module": "@jupyter-widgets/controls",
            "_view_module_version": "1.5.0",
            "_view_name": "ProgressView",
            "bar_style": "success",
            "description": "",
            "description_tooltip": null,
            "layout": "IPY_MODEL_00deb3152d104fbaa6a7ecdff0d4320a",
            "max": 1,
            "min": 0,
            "orientation": "horizontal",
            "style": "IPY_MODEL_911014b3eebf4a089830b97592b65814",
            "value": 1
          }
        },
        "173a3823ebc34a2593fc717cafcbc3c3": {
          "model_module": "@jupyter-widgets/controls",
          "model_name": "HTMLModel",
          "model_module_version": "1.5.0",
          "state": {
            "_dom_classes": [],
            "_model_module": "@jupyter-widgets/controls",
            "_model_module_version": "1.5.0",
            "_model_name": "HTMLModel",
            "_view_count": null,
            "_view_module": "@jupyter-widgets/controls",
            "_view_module_version": "1.5.0",
            "_view_name": "HTMLView",
            "description": "",
            "description_tooltip": null,
            "layout": "IPY_MODEL_2ba5e6cafe4347f9a25ca254b44087a8",
            "placeholder": "​",
            "style": "IPY_MODEL_21e8c1c51b5f415c837fa0f6ee7b111c",
            "value": " 1/1 [00:00&lt;00:00,  7.60it/s]"
          }
        },
        "56a048113d9a4333b9dbdd1613575fe1": {
          "model_module": "@jupyter-widgets/base",
          "model_name": "LayoutModel",
          "model_module_version": "1.2.0",
          "state": {
            "_model_module": "@jupyter-widgets/base",
            "_model_module_version": "1.2.0",
            "_model_name": "LayoutModel",
            "_view_count": null,
            "_view_module": "@jupyter-widgets/base",
            "_view_module_version": "1.2.0",
            "_view_name": "LayoutView",
            "align_content": null,
            "align_items": null,
            "align_self": null,
            "border": null,
            "bottom": null,
            "display": null,
            "flex": null,
            "flex_flow": null,
            "grid_area": null,
            "grid_auto_columns": null,
            "grid_auto_flow": null,
            "grid_auto_rows": null,
            "grid_column": null,
            "grid_gap": null,
            "grid_row": null,
            "grid_template_areas": null,
            "grid_template_columns": null,
            "grid_template_rows": null,
            "height": null,
            "justify_content": null,
            "justify_items": null,
            "left": null,
            "margin": null,
            "max_height": null,
            "max_width": null,
            "min_height": null,
            "min_width": null,
            "object_fit": null,
            "object_position": null,
            "order": null,
            "overflow": null,
            "overflow_x": null,
            "overflow_y": null,
            "padding": null,
            "right": null,
            "top": null,
            "visibility": null,
            "width": null
          }
        },
        "9bf0d7f15e944da982cb2553348b5735": {
          "model_module": "@jupyter-widgets/base",
          "model_name": "LayoutModel",
          "model_module_version": "1.2.0",
          "state": {
            "_model_module": "@jupyter-widgets/base",
            "_model_module_version": "1.2.0",
            "_model_name": "LayoutModel",
            "_view_count": null,
            "_view_module": "@jupyter-widgets/base",
            "_view_module_version": "1.2.0",
            "_view_name": "LayoutView",
            "align_content": null,
            "align_items": null,
            "align_self": null,
            "border": null,
            "bottom": null,
            "display": null,
            "flex": null,
            "flex_flow": null,
            "grid_area": null,
            "grid_auto_columns": null,
            "grid_auto_flow": null,
            "grid_auto_rows": null,
            "grid_column": null,
            "grid_gap": null,
            "grid_row": null,
            "grid_template_areas": null,
            "grid_template_columns": null,
            "grid_template_rows": null,
            "height": null,
            "justify_content": null,
            "justify_items": null,
            "left": null,
            "margin": null,
            "max_height": null,
            "max_width": null,
            "min_height": null,
            "min_width": null,
            "object_fit": null,
            "object_position": null,
            "order": null,
            "overflow": null,
            "overflow_x": null,
            "overflow_y": null,
            "padding": null,
            "right": null,
            "top": null,
            "visibility": null,
            "width": null
          }
        },
        "5e63127a02964b5d9d76ec0c477bfba3": {
          "model_module": "@jupyter-widgets/controls",
          "model_name": "DescriptionStyleModel",
          "model_module_version": "1.5.0",
          "state": {
            "_model_module": "@jupyter-widgets/controls",
            "_model_module_version": "1.5.0",
            "_model_name": "DescriptionStyleModel",
            "_view_count": null,
            "_view_module": "@jupyter-widgets/base",
            "_view_module_version": "1.2.0",
            "_view_name": "StyleView",
            "description_width": ""
          }
        },
        "00deb3152d104fbaa6a7ecdff0d4320a": {
          "model_module": "@jupyter-widgets/base",
          "model_name": "LayoutModel",
          "model_module_version": "1.2.0",
          "state": {
            "_model_module": "@jupyter-widgets/base",
            "_model_module_version": "1.2.0",
            "_model_name": "LayoutModel",
            "_view_count": null,
            "_view_module": "@jupyter-widgets/base",
            "_view_module_version": "1.2.0",
            "_view_name": "LayoutView",
            "align_content": null,
            "align_items": null,
            "align_self": null,
            "border": null,
            "bottom": null,
            "display": null,
            "flex": null,
            "flex_flow": null,
            "grid_area": null,
            "grid_auto_columns": null,
            "grid_auto_flow": null,
            "grid_auto_rows": null,
            "grid_column": null,
            "grid_gap": null,
            "grid_row": null,
            "grid_template_areas": null,
            "grid_template_columns": null,
            "grid_template_rows": null,
            "height": null,
            "justify_content": null,
            "justify_items": null,
            "left": null,
            "margin": null,
            "max_height": null,
            "max_width": null,
            "min_height": null,
            "min_width": null,
            "object_fit": null,
            "object_position": null,
            "order": null,
            "overflow": null,
            "overflow_x": null,
            "overflow_y": null,
            "padding": null,
            "right": null,
            "top": null,
            "visibility": null,
            "width": null
          }
        },
        "911014b3eebf4a089830b97592b65814": {
          "model_module": "@jupyter-widgets/controls",
          "model_name": "ProgressStyleModel",
          "model_module_version": "1.5.0",
          "state": {
            "_model_module": "@jupyter-widgets/controls",
            "_model_module_version": "1.5.0",
            "_model_name": "ProgressStyleModel",
            "_view_count": null,
            "_view_module": "@jupyter-widgets/base",
            "_view_module_version": "1.2.0",
            "_view_name": "StyleView",
            "bar_color": null,
            "description_width": ""
          }
        },
        "2ba5e6cafe4347f9a25ca254b44087a8": {
          "model_module": "@jupyter-widgets/base",
          "model_name": "LayoutModel",
          "model_module_version": "1.2.0",
          "state": {
            "_model_module": "@jupyter-widgets/base",
            "_model_module_version": "1.2.0",
            "_model_name": "LayoutModel",
            "_view_count": null,
            "_view_module": "@jupyter-widgets/base",
            "_view_module_version": "1.2.0",
            "_view_name": "LayoutView",
            "align_content": null,
            "align_items": null,
            "align_self": null,
            "border": null,
            "bottom": null,
            "display": null,
            "flex": null,
            "flex_flow": null,
            "grid_area": null,
            "grid_auto_columns": null,
            "grid_auto_flow": null,
            "grid_auto_rows": null,
            "grid_column": null,
            "grid_gap": null,
            "grid_row": null,
            "grid_template_areas": null,
            "grid_template_columns": null,
            "grid_template_rows": null,
            "height": null,
            "justify_content": null,
            "justify_items": null,
            "left": null,
            "margin": null,
            "max_height": null,
            "max_width": null,
            "min_height": null,
            "min_width": null,
            "object_fit": null,
            "object_position": null,
            "order": null,
            "overflow": null,
            "overflow_x": null,
            "overflow_y": null,
            "padding": null,
            "right": null,
            "top": null,
            "visibility": null,
            "width": null
          }
        },
        "21e8c1c51b5f415c837fa0f6ee7b111c": {
          "model_module": "@jupyter-widgets/controls",
          "model_name": "DescriptionStyleModel",
          "model_module_version": "1.5.0",
          "state": {
            "_model_module": "@jupyter-widgets/controls",
            "_model_module_version": "1.5.0",
            "_model_name": "DescriptionStyleModel",
            "_view_count": null,
            "_view_module": "@jupyter-widgets/base",
            "_view_module_version": "1.2.0",
            "_view_name": "StyleView",
            "description_width": ""
          }
        }
      }
    }
  },
  "cells": [
    {
      "cell_type": "markdown",
      "metadata": {
        "id": "view-in-github",
        "colab_type": "text"
      },
      "source": [
        "<a href=\"https://colab.research.google.com/github/icaglar33/finalproject/blob/main/Final_project_version_2.ipynb\" target=\"_parent\"><img src=\"https://colab.research.google.com/assets/colab-badge.svg\" alt=\"Open In Colab\"/></a>"
      ]
    },
    {
      "cell_type": "markdown",
      "source": [
        "# Import, Clean, Convert and Merge the datasets"
      ],
      "metadata": {
        "id": "DbDEo_u0DCKI"
      }
    },
    {
      "cell_type": "code",
      "source": [
        "#import os\n",
        "#os._exit(00)"
      ],
      "metadata": {
        "id": "4N7dnJTP8EF7"
      },
      "execution_count": 1,
      "outputs": []
    },
    {
      "cell_type": "code",
      "source": [
        "from google.colab import drive\n",
        "drive.mount('/content/drive')"
      ],
      "metadata": {
        "colab": {
          "base_uri": "https://localhost:8080/"
        },
        "id": "8wkefgrxm6D7",
        "outputId": "d31b12cd-aaa3-4ccc-d656-00724474ce1a"
      },
      "execution_count": 2,
      "outputs": [
        {
          "output_type": "stream",
          "name": "stdout",
          "text": [
            "Drive already mounted at /content/drive; to attempt to forcibly remount, call drive.mount(\"/content/drive\", force_remount=True).\n"
          ]
        }
      ]
    },
    {
      "cell_type": "code",
      "source": [
        "import pandas as pd\n",
        "\n",
        "# Function to load datasets\n",
        "def load_data(file_path, nrows=None):\n",
        "    data = pd.read_excel(file_path, nrows=nrows)\n",
        "    return data\n",
        "\n",
        "# Function to merge all datasets\n",
        "def merge_all_datasets(exit_entry_data, unemployment_data, interest_rate_data, gdp_data, cpi_data):\n",
        "    # Merge datasets with proper suffixes for overlapping columns\n",
        "    merged_data = exit_entry_data.merge(unemployment_data, on='Date', how='outer', suffixes=('_exit_entry', '_unemployment')) \\\n",
        "                                  .merge(interest_rate_data, on='Date', how='outer', suffixes=('_unemployment', '_interest_rate')) \\\n",
        "                                  .merge(gdp_data, on='Date', how='outer', suffixes=('_interest_rate', '_gdp')) \\\n",
        "                                  .merge(cpi_data, on='Date', how='outer', suffixes=('_gdp', '_cpi'))\n",
        "\n",
        "    print(merged_data.head())\n",
        "    return merged_data\n",
        "\n",
        "# Load datasets\n",
        "exit_entry_data = load_data(\"/content/drive/MyDrive/project data/entry_exit_data.xlsx\")\n",
        "unemployment_data = load_data(\"/content/drive/MyDrive/project data/unemployment_data.xlsx\")\n",
        "interest_rate_data = load_data(\"/content/drive/MyDrive/project data/interest_rate_data.xlsx\")\n",
        "# Restrict GDP to 80 rows\n",
        "gdp_data = load_data(\"/content/drive/MyDrive/project data/gdp_data.xlsx\", nrows=80)\n",
        "cpi_data = load_data(\"/content/drive/MyDrive/project data/cpi_data.xlsx\")\n",
        "\n",
        "# Merge all datasets\n",
        "merged_data = merge_all_datasets(exit_entry_data, unemployment_data, interest_rate_data, gdp_data, cpi_data)\n"
      ],
      "metadata": {
        "id": "WOvOnaS3SI-w",
        "colab": {
          "base_uri": "https://localhost:8080/"
        },
        "outputId": "596f2e69-32a1-4bde-8c02-1bcf4ceb0fc8"
      },
      "execution_count": 15,
      "outputs": [
        {
          "output_type": "stream",
          "name": "stdout",
          "text": [
            "         Date  Entry rate  Exit rate  Unemployment Rate  \\\n",
            "0  2000-01-01         NaN      13.67           6.866667   \n",
            "1  2000-04-01         NaN      13.13           6.666667   \n",
            "2  2000-07-01         NaN      13.35           6.900000   \n",
            "3  2000-10-01         NaN      12.22           6.900000   \n",
            "4  2001-01-01       14.51      12.54           7.000000   \n",
            "\n",
            "   Long Term Interest Rate      GDP  Inflation Rate  \n",
            "0                 6.286111  1426823             1.4  \n",
            "1                 6.011555  1443782             1.5  \n",
            "2                 5.786455  1458465             1.8  \n",
            "3                 5.617527  1460962             1.8  \n",
            "4                 5.383333  1468700             2.4  \n"
          ]
        }
      ]
    },
    {
      "cell_type": "markdown",
      "source": [
        "# EDA Report"
      ],
      "metadata": {
        "id": "vb4eGT9_DPX1"
      }
    },
    {
      "cell_type": "code",
      "source": [
        "! pip install https://github.com/pandas-profiling/pandas-profiling/archive/master.zip"
      ],
      "metadata": {
        "id": "P1msaWmPwJUn",
        "colab": {
          "base_uri": "https://localhost:8080/"
        },
        "outputId": "04735593-1cae-4ede-e108-5e6cf602dfa1"
      },
      "execution_count": 18,
      "outputs": [
        {
          "output_type": "stream",
          "name": "stdout",
          "text": [
            "Collecting https://github.com/pandas-profiling/pandas-profiling/archive/master.zip\n",
            "  Using cached https://github.com/pandas-profiling/pandas-profiling/archive/master.zip\n",
            "  Preparing metadata (setup.py) ... \u001b[?25l\u001b[?25hdone\n",
            "Requirement already satisfied: scipy<1.12,>=1.4.1 in /usr/local/lib/python3.10/dist-packages (from ydata-profiling==0.0.dev0) (1.11.3)\n",
            "Requirement already satisfied: pandas!=1.4.0,<2.1,>1.1 in /usr/local/lib/python3.10/dist-packages (from ydata-profiling==0.0.dev0) (1.5.3)\n",
            "Requirement already satisfied: matplotlib<=3.7.3,>=3.2 in /usr/local/lib/python3.10/dist-packages (from ydata-profiling==0.0.dev0) (3.7.1)\n",
            "Requirement already satisfied: pydantic>=2 in /usr/local/lib/python3.10/dist-packages (from ydata-profiling==0.0.dev0) (2.5.2)\n",
            "Requirement already satisfied: PyYAML<6.1,>=5.0.0 in /usr/local/lib/python3.10/dist-packages (from ydata-profiling==0.0.dev0) (6.0.1)\n",
            "Requirement already satisfied: jinja2<3.2,>=2.11.1 in /usr/local/lib/python3.10/dist-packages (from ydata-profiling==0.0.dev0) (3.1.2)\n",
            "Requirement already satisfied: visions[type_image_path]==0.7.5 in /usr/local/lib/python3.10/dist-packages (from ydata-profiling==0.0.dev0) (0.7.5)\n",
            "Requirement already satisfied: numpy<1.26,>=1.16.0 in /usr/local/lib/python3.10/dist-packages (from ydata-profiling==0.0.dev0) (1.23.5)\n",
            "Requirement already satisfied: htmlmin==0.1.12 in /usr/local/lib/python3.10/dist-packages (from ydata-profiling==0.0.dev0) (0.1.12)\n",
            "Requirement already satisfied: phik<0.13,>=0.11.1 in /usr/local/lib/python3.10/dist-packages (from ydata-profiling==0.0.dev0) (0.12.3)\n",
            "Requirement already satisfied: requests<3,>=2.24.0 in /usr/local/lib/python3.10/dist-packages (from ydata-profiling==0.0.dev0) (2.31.0)\n",
            "Requirement already satisfied: tqdm<5,>=4.48.2 in /usr/local/lib/python3.10/dist-packages (from ydata-profiling==0.0.dev0) (4.66.1)\n",
            "Requirement already satisfied: seaborn<0.13,>=0.10.1 in /usr/local/lib/python3.10/dist-packages (from ydata-profiling==0.0.dev0) (0.12.2)\n",
            "Requirement already satisfied: multimethod<2,>=1.4 in /usr/local/lib/python3.10/dist-packages (from ydata-profiling==0.0.dev0) (1.10)\n",
            "Requirement already satisfied: statsmodels<1,>=0.13.2 in /usr/local/lib/python3.10/dist-packages (from ydata-profiling==0.0.dev0) (0.14.0)\n",
            "Requirement already satisfied: typeguard<5,>=4.1.2 in /usr/local/lib/python3.10/dist-packages (from ydata-profiling==0.0.dev0) (4.1.5)\n",
            "Requirement already satisfied: imagehash==4.3.1 in /usr/local/lib/python3.10/dist-packages (from ydata-profiling==0.0.dev0) (4.3.1)\n",
            "Requirement already satisfied: wordcloud>=1.9.1 in /usr/local/lib/python3.10/dist-packages (from ydata-profiling==0.0.dev0) (1.9.2)\n",
            "Requirement already satisfied: dacite>=1.8 in /usr/local/lib/python3.10/dist-packages (from ydata-profiling==0.0.dev0) (1.8.1)\n",
            "Requirement already satisfied: numba<0.59.0,>=0.56.0 in /usr/local/lib/python3.10/dist-packages (from ydata-profiling==0.0.dev0) (0.58.1)\n",
            "Requirement already satisfied: PyWavelets in /usr/local/lib/python3.10/dist-packages (from imagehash==4.3.1->ydata-profiling==0.0.dev0) (1.4.1)\n",
            "Requirement already satisfied: pillow in /usr/local/lib/python3.10/dist-packages (from imagehash==4.3.1->ydata-profiling==0.0.dev0) (9.4.0)\n",
            "Requirement already satisfied: attrs>=19.3.0 in /usr/local/lib/python3.10/dist-packages (from visions[type_image_path]==0.7.5->ydata-profiling==0.0.dev0) (23.1.0)\n",
            "Requirement already satisfied: networkx>=2.4 in /usr/local/lib/python3.10/dist-packages (from visions[type_image_path]==0.7.5->ydata-profiling==0.0.dev0) (3.2.1)\n",
            "Requirement already satisfied: tangled-up-in-unicode>=0.0.4 in /usr/local/lib/python3.10/dist-packages (from visions[type_image_path]==0.7.5->ydata-profiling==0.0.dev0) (0.2.0)\n",
            "Requirement already satisfied: MarkupSafe>=2.0 in /usr/local/lib/python3.10/dist-packages (from jinja2<3.2,>=2.11.1->ydata-profiling==0.0.dev0) (2.1.3)\n",
            "Requirement already satisfied: contourpy>=1.0.1 in /usr/local/lib/python3.10/dist-packages (from matplotlib<=3.7.3,>=3.2->ydata-profiling==0.0.dev0) (1.2.0)\n",
            "Requirement already satisfied: cycler>=0.10 in /usr/local/lib/python3.10/dist-packages (from matplotlib<=3.7.3,>=3.2->ydata-profiling==0.0.dev0) (0.12.1)\n",
            "Requirement already satisfied: fonttools>=4.22.0 in /usr/local/lib/python3.10/dist-packages (from matplotlib<=3.7.3,>=3.2->ydata-profiling==0.0.dev0) (4.44.3)\n",
            "Requirement already satisfied: kiwisolver>=1.0.1 in /usr/local/lib/python3.10/dist-packages (from matplotlib<=3.7.3,>=3.2->ydata-profiling==0.0.dev0) (1.4.5)\n",
            "Requirement already satisfied: packaging>=20.0 in /usr/local/lib/python3.10/dist-packages (from matplotlib<=3.7.3,>=3.2->ydata-profiling==0.0.dev0) (23.2)\n",
            "Requirement already satisfied: pyparsing>=2.3.1 in /usr/local/lib/python3.10/dist-packages (from matplotlib<=3.7.3,>=3.2->ydata-profiling==0.0.dev0) (3.1.1)\n",
            "Requirement already satisfied: python-dateutil>=2.7 in /usr/local/lib/python3.10/dist-packages (from matplotlib<=3.7.3,>=3.2->ydata-profiling==0.0.dev0) (2.8.2)\n",
            "Requirement already satisfied: llvmlite<0.42,>=0.41.0dev0 in /usr/local/lib/python3.10/dist-packages (from numba<0.59.0,>=0.56.0->ydata-profiling==0.0.dev0) (0.41.1)\n",
            "Requirement already satisfied: pytz>=2020.1 in /usr/local/lib/python3.10/dist-packages (from pandas!=1.4.0,<2.1,>1.1->ydata-profiling==0.0.dev0) (2023.3.post1)\n",
            "Requirement already satisfied: joblib>=0.14.1 in /usr/local/lib/python3.10/dist-packages (from phik<0.13,>=0.11.1->ydata-profiling==0.0.dev0) (1.3.2)\n",
            "Requirement already satisfied: annotated-types>=0.4.0 in /usr/local/lib/python3.10/dist-packages (from pydantic>=2->ydata-profiling==0.0.dev0) (0.6.0)\n",
            "Requirement already satisfied: pydantic-core==2.14.5 in /usr/local/lib/python3.10/dist-packages (from pydantic>=2->ydata-profiling==0.0.dev0) (2.14.5)\n",
            "Requirement already satisfied: typing-extensions>=4.6.1 in /usr/local/lib/python3.10/dist-packages (from pydantic>=2->ydata-profiling==0.0.dev0) (4.8.0)\n",
            "Requirement already satisfied: charset-normalizer<4,>=2 in /usr/local/lib/python3.10/dist-packages (from requests<3,>=2.24.0->ydata-profiling==0.0.dev0) (3.3.2)\n",
            "Requirement already satisfied: idna<4,>=2.5 in /usr/local/lib/python3.10/dist-packages (from requests<3,>=2.24.0->ydata-profiling==0.0.dev0) (3.4)\n",
            "Requirement already satisfied: urllib3<3,>=1.21.1 in /usr/local/lib/python3.10/dist-packages (from requests<3,>=2.24.0->ydata-profiling==0.0.dev0) (2.0.7)\n",
            "Requirement already satisfied: certifi>=2017.4.17 in /usr/local/lib/python3.10/dist-packages (from requests<3,>=2.24.0->ydata-profiling==0.0.dev0) (2023.7.22)\n",
            "Requirement already satisfied: patsy>=0.5.2 in /usr/local/lib/python3.10/dist-packages (from statsmodels<1,>=0.13.2->ydata-profiling==0.0.dev0) (0.5.3)\n",
            "Requirement already satisfied: six in /usr/local/lib/python3.10/dist-packages (from patsy>=0.5.2->statsmodels<1,>=0.13.2->ydata-profiling==0.0.dev0) (1.16.0)\n"
          ]
        }
      ]
    },
    {
      "cell_type": "code",
      "source": [
        "import pandas as pd\n",
        "import pandas_profiling\n",
        "from pandas_profiling import ProfileReport\n",
        "\n",
        "# Generate EDA report\n",
        "profile = ProfileReport(merged_data, title='Exploratory Data Analysis Report', explorative=True)\n",
        "\n",
        "# Save EDA report as HTML\n",
        "html_report_path = 'eda_report.html'\n",
        "profile.to_file(html_report_path)\n",
        "\n",
        "print(f'EDA report saved as {html_report_path}.')"
      ],
      "metadata": {
        "id": "sXUhpkntUEoL",
        "colab": {
          "base_uri": "https://localhost:8080/",
          "height": 163,
          "referenced_widgets": [
            "277302ef820a4f7593addd6dbed39e38",
            "6eb5d42df802427a998d542fe958f8f1",
            "d51cdd6c68734c15ab4cdd0748caf697",
            "a552e5873e95464db10cc51843be1f47",
            "168da2e85073421a9f1af4a7b8fb690e",
            "81745dcb3abe40f386279b6c2d32a930",
            "47745083b46647109de9afb00eda1127",
            "563e1b07d77842e4a12f53ce6ed70269",
            "2ae6f7e94922402490722f9a7219807c",
            "d15adaebf98f48da8b641de19f9ad42c",
            "73b6bb82f09f4e9fb236c46a3d5f3cae",
            "4e6dc56715134024a9dc0ad833a25290",
            "7c712a69a357489fae0fef6ceeacf401",
            "52aba6f571254ad1b45bc643bc7249d1",
            "ccd6144ad71f4ec1aab92752f40037e9",
            "f1081d80b2e447c0b2d795ad704052dd",
            "e7fd03bc47be44099c3df6fc6abfa623",
            "18cd489079264e0d96d49b28c112da2f",
            "a2106d82459d44299538ee8daa3b09d9",
            "962b293fa3b7433e9b430efd09fdca34",
            "c644155054a3437395ffc0d8a14ee677",
            "bc65973a605e4655a70c8d523c015b17",
            "c297e0bfd1444543ba62c55a59831310",
            "aae087447d1e4b538cea18cdf6703a58",
            "99df2d7453da400196742b9ce6bc6a15",
            "64c1a2bb1af447099f2c0651372dedaa",
            "03952cd12fb54878b9b4b6cf00810998",
            "bd3effb5c6d94588930eee7c838071f6",
            "3cdde6680c9148fba186822966205c8a",
            "248bc03ccea94c90a25a8803a523623e",
            "38b1fc05a7fd42108ed2b42d12ebbadc",
            "2591ddcefa1340be8481fbfa8f728606",
            "a82e742c9573427e96eff001b82835e5",
            "9e13528091eb4945b86ce57947d52ae5",
            "9ce57a0fd3ed44bbb4f5d2b0e6ae53cd",
            "582d4c534a5a45cf83cb951aedf5881b",
            "173a3823ebc34a2593fc717cafcbc3c3",
            "56a048113d9a4333b9dbdd1613575fe1",
            "9bf0d7f15e944da982cb2553348b5735",
            "5e63127a02964b5d9d76ec0c477bfba3",
            "00deb3152d104fbaa6a7ecdff0d4320a",
            "911014b3eebf4a089830b97592b65814",
            "2ba5e6cafe4347f9a25ca254b44087a8",
            "21e8c1c51b5f415c837fa0f6ee7b111c"
          ]
        },
        "outputId": "46208a96-d4b6-48b7-8d37-94a3f2d69b5e"
      },
      "execution_count": 19,
      "outputs": [
        {
          "output_type": "display_data",
          "data": {
            "text/plain": [
              "Summarize dataset:   0%|          | 0/5 [00:00<?, ?it/s]"
            ],
            "application/vnd.jupyter.widget-view+json": {
              "version_major": 2,
              "version_minor": 0,
              "model_id": "277302ef820a4f7593addd6dbed39e38"
            }
          },
          "metadata": {}
        },
        {
          "output_type": "display_data",
          "data": {
            "text/plain": [
              "Generate report structure:   0%|          | 0/1 [00:00<?, ?it/s]"
            ],
            "application/vnd.jupyter.widget-view+json": {
              "version_major": 2,
              "version_minor": 0,
              "model_id": "4e6dc56715134024a9dc0ad833a25290"
            }
          },
          "metadata": {}
        },
        {
          "output_type": "display_data",
          "data": {
            "text/plain": [
              "Render HTML:   0%|          | 0/1 [00:00<?, ?it/s]"
            ],
            "application/vnd.jupyter.widget-view+json": {
              "version_major": 2,
              "version_minor": 0,
              "model_id": "c297e0bfd1444543ba62c55a59831310"
            }
          },
          "metadata": {}
        },
        {
          "output_type": "display_data",
          "data": {
            "text/plain": [
              "Export report to file:   0%|          | 0/1 [00:00<?, ?it/s]"
            ],
            "application/vnd.jupyter.widget-view+json": {
              "version_major": 2,
              "version_minor": 0,
              "model_id": "9e13528091eb4945b86ce57947d52ae5"
            }
          },
          "metadata": {}
        },
        {
          "output_type": "stream",
          "name": "stdout",
          "text": [
            "EDA report saved as eda_report.html.\n"
          ]
        }
      ]
    },
    {
      "cell_type": "markdown",
      "source": [
        "# Formatting"
      ],
      "metadata": {
        "id": "QGMaJvCODXMr"
      }
    },
    {
      "cell_type": "code",
      "source": [
        "\n"
      ],
      "metadata": {
        "id": "dXjImbb-1izr",
        "colab": {
          "base_uri": "https://localhost:8080/"
        },
        "outputId": "ed176f85-fa23-4c13-ba17-22e938d21984"
      },
      "execution_count": 20,
      "outputs": [
        {
          "output_type": "stream",
          "name": "stdout",
          "text": [
            "Original Variable Names:\n",
            "Index(['Date', 'Entry rate', 'Exit rate', 'Unemployment Rate',\n",
            "       'Long Term Interest Rate', 'GDP', 'Inflation Rate'],\n",
            "      dtype='object')\n",
            "\n",
            "New Variable Names:\n",
            "Index(['date', 'entry_rate', 'exit_rate', 'unemployment_rate', 'interest_rate',\n",
            "       'GDP', 'cpi'],\n",
            "      dtype='object')\n"
          ]
        }
      ]
    },
    {
      "cell_type": "markdown",
      "source": [
        "# Decision Tree Model"
      ],
      "metadata": {
        "id": "X12dvh9yCbqm"
      }
    },
    {
      "cell_type": "code",
      "source": [
        "from sklearn.tree import DecisionTreeRegressor\n",
        "from sklearn.metrics import mean_squared_error\n",
        "from sklearn.model_selection import train_test_split\n",
        "\n",
        "# Display the original variable names\n",
        "print(\"Original Variable Names:\")\n",
        "print(merged_data.columns)\n",
        "\n",
        "# Create a mapping for consistent names\n",
        "name_mapping = {\n",
        "    'Date': 'date',\n",
        "    'Number of active employer businesses in the private sector': 'active_businesses',\n",
        "    'Number of entrants': 'entrants',\n",
        "    'Number of exits': 'exits',\n",
        "    'Entry rate': 'entry_rate',\n",
        "    'Exit rate': 'exit_rate',\n",
        "    'Unemployment Rate': 'unemployment_rate',\n",
        "    'Long Term Interest Rate': 'interest_rate',\n",
        "    'Gross domestic product at market prices': 'GDP',\n",
        "    'Inflation Rate': 'cpi',\n",
        "}\n",
        "\n",
        "# Rename the columns using the mapping\n",
        "merged_data.rename(columns=name_mapping, inplace=True)\n",
        "\n",
        "# Display the new variable names\n",
        "print(\"\\nNew Variable Names:\")\n",
        "print(merged_data.columns)\n",
        "\n",
        "# Select relevant features and target variables\n",
        "features = ['unemployment_rate', 'interest_rate', 'GDP', 'cpi']  # Updated to match the case\n",
        "target_entry = 'entry_rate'\n",
        "target_exit = 'exit_rate'\n",
        "\n",
        "# Combine features and target variable for entry rate\n",
        "data_entry = merged_data[features + [target_entry]].copy()\n",
        "\n",
        "# Drop rows with NaN values for entry rate\n",
        "data_entry = data_entry.dropna()\n",
        "\n",
        "# Split the data into training and testing sets for entry rate\n",
        "X_train_entry, X_test_entry, y_train_entry, y_test_entry = train_test_split(\n",
        "    data_entry[features], data_entry[target_entry], test_size=0.2, random_state=42\n",
        ")\n",
        "\n",
        "# Initialize the decision tree model for entry rate\n",
        "tree_model_entry = DecisionTreeRegressor(random_state=42)\n",
        "\n",
        "# Train the model for entry rate\n",
        "tree_model_entry.fit(X_train_entry, y_train_entry)\n",
        "\n",
        "# Make predictions on the testing set for entry rate\n",
        "tree_predictions_entry = tree_model_entry.predict(X_test_entry)\n",
        "\n",
        "\n",
        "# Evaluate the model for entry rate\n",
        "tree_mse_entry = mean_squared_error(y_test_entry, tree_predictions_entry)\n",
        "print(f'Decision Tree (Entry Rate) Mean Squared Error: {tree_mse_entry}')\n",
        "\n",
        "# Combine features and target variable for exit rate\n",
        "data_exit = merged_data[features + [target_exit]].copy()\n",
        "\n",
        "# Drop rows with NaN values for exit rate\n",
        "data_exit = data_exit.dropna()\n",
        "\n",
        "# Split the data into training and testing sets for exit rate\n",
        "X_train_exit, X_test_exit, y_train_exit, y_test_exit = train_test_split(\n",
        "    data_exit[features], data_exit[target_exit], test_size=0.2, random_state=42\n",
        ")\n",
        "\n",
        "# Initialize the decision tree model for exit rate\n",
        "tree_model_exit = DecisionTreeRegressor(random_state=42)\n",
        "\n",
        "# Train the model for exit rate\n",
        "tree_model_exit.fit(X_train_exit, y_train_exit)\n",
        "\n",
        "# Make predictions on the testing set for exit rate\n",
        "tree_predictions_exit = tree_model_exit.predict(X_test_exit)\n",
        "\n",
        "\n",
        "# Evaluate the model for exit rate\n",
        "tree_mse_exit = mean_squared_error(y_test_exit, tree_predictions_exit)\n",
        "print(f'Decision Tree (Exit Rate) Mean Squared Error: {tree_mse_exit}')\n"
      ],
      "metadata": {
        "id": "XCFDucjOs-x0",
        "colab": {
          "base_uri": "https://localhost:8080/"
        },
        "outputId": "e83ec1bf-c2b5-4bad-e382-dc3b431a9354"
      },
      "execution_count": 33,
      "outputs": [
        {
          "output_type": "stream",
          "name": "stdout",
          "text": [
            "Original Variable Names:\n",
            "Index(['date', 'entry_rate', 'exit_rate', 'unemployment_rate', 'interest_rate',\n",
            "       'GDP', 'cpi'],\n",
            "      dtype='object')\n",
            "\n",
            "New Variable Names:\n",
            "Index(['date', 'entry_rate', 'exit_rate', 'unemployment_rate', 'interest_rate',\n",
            "       'GDP', 'cpi'],\n",
            "      dtype='object')\n",
            "Decision Tree (Entry Rate) Mean Squared Error: 0.38752500000000023\n",
            "Decision Tree (Exit Rate) Mean Squared Error: 0.15196874999999982\n"
          ]
        }
      ]
    },
    {
      "cell_type": "code",
      "source": [
        "import numpy as np\n",
        "\n",
        "# Create a DataFrame for future quarters (2020Q1 to 2030Q4)\n",
        "future_quarters = pd.date_range(start='2020-01-01', end='2030-12-31', freq='Q')\n",
        "future_data = pd.DataFrame({'Date': future_quarters})\n",
        "\n",
        "# Include relevant features\n",
        "np.random.seed(42)\n",
        "future_data['unemployment_rate'] = np.random.uniform(3, 6, size=len(future_data))\n",
        "future_data['interest_rate'] = np.random.uniform(1, 5, size=len(future_data))\n",
        "future_data['GDP'] = np.random.uniform(10000, 50000, size=len(future_data))\n",
        "future_data['cpi'] = np.random.uniform(1, 3, size=len(future_data))\n",
        "\n",
        "# Check for missing values in future_data\n",
        "print(\"Missing Values in future_data:\")\n",
        "print(future_data.isnull().sum())\n",
        "\n",
        "# Make predictions for entry rate and exit rate using the original features\n",
        "predictions_entry = tree_model_entry.predict(future_data[features])\n",
        "predictions_exit = tree_model_exit.predict(future_data[features])\n",
        "\n",
        "# Add predicted values to the future_data DataFrame\n",
        "future_data['Predicted_Entry_Rate'] = predictions_entry\n",
        "future_data['Predicted_Exit_Rate'] = predictions_exit\n",
        "\n",
        "# Display the prediction results\n",
        "print(future_data[['Date', 'Predicted_Entry_Rate', 'Predicted_Exit_Rate']])\n"
      ],
      "metadata": {
        "id": "p7wdTi7P9nPX",
        "colab": {
          "base_uri": "https://localhost:8080/"
        },
        "outputId": "f35db438-2690-4668-afd2-b3912ca3bba2"
      },
      "execution_count": 50,
      "outputs": [
        {
          "output_type": "stream",
          "name": "stdout",
          "text": [
            "Missing Values in future_data:\n",
            "Date                 0\n",
            "unemployment_rate    0\n",
            "interest_rate        0\n",
            "GDP                  0\n",
            "cpi                  0\n",
            "dtype: int64\n",
            "         Date  Predicted_Entry_Rate  Predicted_Exit_Rate\n",
            "0  2020-03-31                 12.79                11.27\n",
            "1  2020-06-30                 12.75                12.25\n",
            "2  2020-09-30                 13.92                11.09\n",
            "3  2020-12-31                 12.48                11.27\n",
            "4  2021-03-31                 13.92                11.09\n",
            "5  2021-06-30                 13.92                11.09\n",
            "6  2021-09-30                 12.75                12.22\n",
            "7  2021-12-31                 12.75                12.84\n",
            "8  2022-03-31                 12.75                12.84\n",
            "9  2022-06-30                 12.75                12.09\n",
            "10 2022-09-30                 13.92                11.09\n",
            "11 2022-12-31                 12.75                12.09\n",
            "12 2023-03-31                 12.79                11.27\n",
            "13 2023-06-30                 12.79                11.27\n",
            "14 2023-09-30                 13.92                11.09\n",
            "15 2023-12-31                 13.92                11.09\n",
            "16 2024-03-31                 12.45                11.27\n",
            "17 2024-06-30                 12.79                11.27\n",
            "18 2024-09-30                 12.75                12.84\n",
            "19 2024-12-31                 12.45                11.27\n",
            "20 2025-03-31                 12.79                11.27\n",
            "21 2025-06-30                 13.92                11.09\n",
            "22 2025-09-30                 13.92                11.09\n",
            "23 2025-12-31                 12.75                12.25\n",
            "24 2026-03-31                 13.92                11.09\n",
            "25 2026-06-30                 12.75                12.84\n",
            "26 2026-09-30                 12.75                12.25\n",
            "27 2026-12-31                 13.92                11.09\n",
            "28 2027-03-31                 12.79                11.27\n",
            "29 2027-06-30                 12.75                12.84\n",
            "30 2027-09-30                 12.75                12.84\n",
            "31 2027-12-31                 12.75                12.84\n",
            "32 2028-03-31                 12.75                12.25\n",
            "33 2028-06-30                 13.92                11.05\n",
            "34 2028-09-30                 12.45                11.09\n",
            "35 2028-12-31                 12.79                11.27\n",
            "36 2029-03-31                 12.75                12.25\n",
            "37 2029-06-30                 13.92                11.09\n",
            "38 2029-09-30                 13.92                11.09\n",
            "39 2029-12-31                 12.79                11.27\n",
            "40 2030-03-31                 13.92                11.09\n",
            "41 2030-06-30                 12.79                11.27\n",
            "42 2030-09-30                 12.75                12.84\n",
            "43 2030-12-31                 12.75                12.25\n"
          ]
        }
      ]
    },
    {
      "cell_type": "markdown",
      "source": [
        "**Evaluation Metrics:**"
      ],
      "metadata": {
        "id": "xWioEzl6_EfR"
      }
    },
    {
      "cell_type": "code",
      "source": [
        "# Mean Squared Error (MSE):\n",
        "\n",
        "print(f'Decision Tree (Entry Rate) Mean Squared Error: {tree_mse_entry}')\n",
        "print(f'Decision Tree (Exit Rate) Mean Squared Error: {tree_mse_exit}')"
      ],
      "metadata": {
        "id": "qCwasf2f_3e7",
        "colab": {
          "base_uri": "https://localhost:8080/"
        },
        "outputId": "609a3716-ea7e-4860-dc71-802698d9c8c9"
      },
      "execution_count": 42,
      "outputs": [
        {
          "output_type": "stream",
          "name": "stdout",
          "text": [
            "Decision Tree (Entry Rate) Mean Squared Error: 0.38752500000000023\n",
            "Decision Tree (Exit Rate) Mean Squared Error: 0.15196874999999982\n"
          ]
        }
      ]
    },
    {
      "cell_type": "code",
      "source": [
        "# R-squared (R2):\n",
        "\n",
        "from sklearn.metrics import r2_score\n",
        "\n",
        "r2_entry = r2_score(y_test_entry, tree_predictions_entry)\n",
        "r2_exit = r2_score(y_test_exit, tree_predictions_exit)\n",
        "\n",
        "print(f'Decision Tree (Entry Rate) R-squared: {r2_entry}')\n",
        "print(f'Decision Tree (Exit Rate) R-squared: {r2_exit}')"
      ],
      "metadata": {
        "id": "UcU4qv1IAPTV",
        "colab": {
          "base_uri": "https://localhost:8080/"
        },
        "outputId": "bcd6f76a-dfa3-477d-ddf6-618f6691dcb5"
      },
      "execution_count": 43,
      "outputs": [
        {
          "output_type": "stream",
          "name": "stdout",
          "text": [
            "Decision Tree (Entry Rate) R-squared: 0.5654862407742953\n",
            "Decision Tree (Exit Rate) R-squared: 0.6659014965902275\n"
          ]
        }
      ]
    },
    {
      "cell_type": "code",
      "source": [
        "# Overfitting:\n",
        "\n",
        "tree_predictions_entry_train = tree_model_entry.predict(X_train_entry)\n",
        "tree_mse_entry_train = mean_squared_error(y_train_entry, tree_predictions_entry_train)\n",
        "\n",
        "tree_predictions_exit_train = tree_model_exit.predict(X_train_exit)\n",
        "tree_mse_exit_train = mean_squared_error(y_train_exit, tree_predictions_exit_train)\n",
        "\n",
        "print(f'Decision Tree (Entry Rate) Train Mean Squared Error: {tree_mse_entry_train}')\n",
        "print(f'Decision Tree (Exit Rate) Train Mean Squared Error: {tree_mse_exit_train}')"
      ],
      "metadata": {
        "id": "EtRUfMZrAwkb",
        "colab": {
          "base_uri": "https://localhost:8080/"
        },
        "outputId": "e839e32d-1bee-43d1-b762-eed12c830f2f"
      },
      "execution_count": 44,
      "outputs": [
        {
          "output_type": "stream",
          "name": "stdout",
          "text": [
            "Decision Tree (Entry Rate) Train Mean Squared Error: 0.0\n",
            "Decision Tree (Exit Rate) Train Mean Squared Error: 0.0\n"
          ]
        }
      ]
    },
    {
      "cell_type": "code",
      "source": [
        "# Cross-Validation\n",
        "\n",
        "from sklearn.model_selection import cross_val_score\n",
        "\n",
        "# For entry rate\n",
        "cross_val_scores_entry = cross_val_score(tree_model_entry, data_entry[features], data_entry[target_entry], cv=5, scoring='neg_mean_squared_error')\n",
        "print(f'Cross-Validation MSE (Entry Rate): {np.mean(-cross_val_scores_entry)}')\n",
        "\n",
        "# For exit rate\n",
        "cross_val_scores_exit = cross_val_score(tree_model_exit, data_exit[features], data_exit[target_exit], cv=5, scoring='neg_mean_squared_error')\n",
        "print(f'Cross-Validation MSE (Exit Rate): {np.mean(-cross_val_scores_exit)}')"
      ],
      "metadata": {
        "id": "ZTnbMuyuB0aY",
        "colab": {
          "base_uri": "https://localhost:8080/"
        },
        "outputId": "7df5a8ec-a8a8-49e9-c6ee-f8cde4400801"
      },
      "execution_count": 45,
      "outputs": [
        {
          "output_type": "stream",
          "name": "stdout",
          "text": [
            "Cross-Validation MSE (Entry Rate): 0.8492019166666663\n",
            "Cross-Validation MSE (Exit Rate): 0.39122874999999996\n"
          ]
        }
      ]
    },
    {
      "cell_type": "code",
      "source": [
        "# Comparison with Liner Regression\n",
        "\n",
        "from sklearn.linear_model import LinearRegression\n",
        "\n",
        "# For entry rate\n",
        "linear_model_entry = LinearRegression()\n",
        "linear_model_entry.fit(X_train_entry, y_train_entry)\n",
        "linear_predictions_entry = linear_model_entry.predict(X_test_entry)\n",
        "linear_mse_entry = mean_squared_error(y_test_entry, linear_predictions_entry)\n",
        "print(f'Linear Regression (Entry Rate) Mean Squared Error: {linear_mse_entry}')\n",
        "\n",
        "# For exit rate\n",
        "linear_model_exit = LinearRegression()\n",
        "linear_model_exit.fit(X_train_exit, y_train_exit)\n",
        "linear_predictions_exit = linear_model_exit.predict(X_test_exit)\n",
        "linear_mse_exit = mean_squared_error(y_test_exit, linear_predictions_exit)\n",
        "print(f'Linear Regression (Exit Rate) Mean Squared Error: {linear_mse_exit}')\n"
      ],
      "metadata": {
        "id": "1fQWOGJ3Akyu",
        "colab": {
          "base_uri": "https://localhost:8080/"
        },
        "outputId": "9d859aea-cca3-43e4-cd78-63bcc0d88da1"
      },
      "execution_count": 46,
      "outputs": [
        {
          "output_type": "stream",
          "name": "stdout",
          "text": [
            "Linear Regression (Entry Rate) Mean Squared Error: 0.29658807835114814\n",
            "Linear Regression (Exit Rate) Mean Squared Error: 0.11295939204893843\n"
          ]
        }
      ]
    },
    {
      "cell_type": "code",
      "source": [
        "import matplotlib.pyplot as plt\n",
        "\n",
        "# For entry rate\n",
        "plt.scatter(y_test_entry, tree_predictions_entry, label='Decision Tree')\n",
        "plt.scatter(y_test_entry, linear_predictions_entry, label='Linear Regression')\n",
        "plt.xlabel('Actual Entry Rate')\n",
        "plt.ylabel('Predicted Entry Rate')\n",
        "plt.legend()\n",
        "plt.show()\n",
        "\n",
        "# For exit rate\n",
        "plt.scatter(y_test_exit, tree_predictions_exit, label='Decision Tree')\n",
        "plt.scatter(y_test_exit, linear_predictions_exit, label='Linear Regression')\n",
        "plt.xlabel('Actual Exit Rate')\n",
        "plt.ylabel('Predicted Exit Rate')\n",
        "plt.legend()\n",
        "plt.show()"
      ],
      "metadata": {
        "id": "TGveMauHpHOT",
        "colab": {
          "base_uri": "https://localhost:8080/",
          "height": 881
        },
        "outputId": "89f9c8c4-cb6e-43cd-f1e7-e29c034a8bb0"
      },
      "execution_count": 47,
      "outputs": [
        {
          "output_type": "display_data",
          "data": {
            "text/plain": [
              "<Figure size 640x480 with 1 Axes>"
            ],
            "image/png": "[encoded data removed]"
          },
          "metadata": {}
        },
        {
          "output_type": "display_data",
          "data": {
            "text/plain": [
              "<Figure size 640x480 with 1 Axes>"
            ],
            "image/png": "[encoded data removed]"
          },
          "metadata": {}
        }
      ]
    }
  ]
}