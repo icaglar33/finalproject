{
  "nbformat": 4,
  "nbformat_minor": 0,
  "metadata": {
    "colab": {
      "provenance": [],
      "mount_file_id": "1zAMlc8gLsCB3lSWgE7Ri4EQmflHXVFGC",
      "authorship_tag": "ABX9TyPE0O9QQNs2KDx7P8srFgm1",
      "include_colab_link": true
    },
    "kernelspec": {
      "name": "python3",
      "display_name": "Python 3"
    },
    "language_info": {
      "name": "python"
    }
  },
  "cells": [
    {
      "cell_type": "markdown",
      "metadata": {
        "id": "view-in-github",
        "colab_type": "text"
      },
      "source": [
        "<a href=\"https://colab.research.google.com/github/icaglar33/finalproject/blob/main/Final_Project.ipynb\" target=\"_parent\"><img src=\"https://colab.research.google.com/assets/colab-badge.svg\" alt=\"Open In Colab\"/></a>"
      ]
    },
    {
      "cell_type": "code",
      "execution_count": 1,
      "metadata": {
        "id": "Tra5NESHe6zh"
      },
      "outputs": [],
      "source": [
        "import pandas as pd\n",
        "import matplotlib.pyplot as plt"
      ]
    },
    {
      "cell_type": "code",
      "source": [
        "exit_entry_data = pd.read_excel(\"/content/drive/MyDrive/project data/entry_exit_data.xlsx\")\n",
        "\n",
        "exit_entry_data.head()\n",
        "exit_entry_data.info()\n",
        "exit_entry_data.describe()\n"
      ],
      "metadata": {
        "id": "BwyyvTRkxzgJ",
        "colab": {
          "base_uri": "https://localhost:8080/",
          "height": 656
        },
        "outputId": "ad8782a0-ca3a-4c44-d096-b2ba56e88410"
      },
      "execution_count": 2,
      "outputs": [
        {
          "output_type": "stream",
          "name": "stdout",
          "text": [
            "<class 'pandas.core.frame.DataFrame'>\n",
            "RangeIndex: 80 entries, 0 to 79\n",
            "Data columns (total 11 columns):\n",
            " #   Column                                                      Non-Null Count  Dtype  \n",
            "---  ------                                                      --------------  -----  \n",
            " 0   Date                                                        80 non-null     object \n",
            " 1   Number of active employer businesses in the private sector  80 non-null     int64  \n",
            " 2   Number of entrants                                          76 non-null     float64\n",
            " 3   Number of exits                                             80 non-null     int64  \n",
            " 4   Entry rate                                                  76 non-null     float64\n",
            " 5   Exit rate                                                   80 non-null     float64\n",
            " 6   Employment                                                  80 non-null     int64  \n",
            " 7   Gross employment creation by entrants                       76 non-null     float64\n",
            " 8   Gross employment destruction by exits                       80 non-null     int64  \n",
            " 9   Employment creation rate by entries                         76 non-null     float64\n",
            " 10  Employment destruction rate by exits                        80 non-null     float64\n",
            "dtypes: float64(6), int64(4), object(1)\n",
            "memory usage: 7.0+ KB\n"
          ]
        },
        {
          "output_type": "execute_result",
          "data": {
            "text/plain": [
              "       Number of active employer businesses in the private sector  \\\n",
              "count                                       8.000000e+01            \n",
              "mean                                        1.030667e+06            \n",
              "std                                         7.824214e+04            \n",
              "min                                         8.884000e+05            \n",
              "25%                                         9.646100e+05            \n",
              "50%                                         1.046420e+06            \n",
              "75%                                         1.100228e+06            \n",
              "max                                         1.140960e+06            \n",
              "\n",
              "       Number of entrants  Number of exits  Entry rate  Exit rate  \\\n",
              "count           76.000000        80.000000   76.000000  80.000000   \n",
              "mean        138037.894737    122452.625000   13.375789  11.940125   \n",
              "std           7992.684208      5360.143523    1.074290   0.637488   \n",
              "min         115380.000000    109860.000000   10.650000  11.020000   \n",
              "25%         134622.500000    119192.500000   12.547500  11.430000   \n",
              "50%         138805.000000    123585.000000   13.140000  11.730000   \n",
              "75%         144282.500000    125992.500000   14.210000  12.377500   \n",
              "max         155230.000000    134170.000000   15.310000  13.670000   \n",
              "\n",
              "         Employment  Gross employment creation by entrants  \\\n",
              "count  8.000000e+01                              76.000000   \n",
              "mean   1.163842e+07                          207263.026316   \n",
              "std    8.684885e+05                           39647.409365   \n",
              "min    9.956320e+06                          150250.000000   \n",
              "25%    1.110386e+07                          177477.500000   \n",
              "50%    1.165222e+07                          185775.000000   \n",
              "75%    1.226843e+07                          247885.000000   \n",
              "max    1.321410e+07                          294320.000000   \n",
              "\n",
              "       Gross employment destruction by exits  \\\n",
              "count                               80.00000   \n",
              "mean                            174654.00000   \n",
              "std                              42662.82862   \n",
              "min                             130480.00000   \n",
              "25%                             147790.00000   \n",
              "50%                             152280.00000   \n",
              "75%                             189040.00000   \n",
              "max                             291160.00000   \n",
              "\n",
              "       Employment creation rate by entries  \\\n",
              "count                            76.000000   \n",
              "mean                              1.798026   \n",
              "std                               0.457369   \n",
              "min                               1.220000   \n",
              "25%                               1.440000   \n",
              "50%                               1.555000   \n",
              "75%                               2.295000   \n",
              "max                               2.750000   \n",
              "\n",
              "       Employment destruction rate by exits  \n",
              "count                             80.000000  \n",
              "mean                               1.532625  \n",
              "std                                0.492734  \n",
              "min                                1.070000  \n",
              "25%                                1.210000  \n",
              "50%                                1.305000  \n",
              "75%                                1.635000  \n",
              "max                                2.920000  "
            ],
            "text/html": [
              "\n",
              "  <div id=\"df-29c2653a-71d2-4680-af3c-dd6f61407e9a\" class=\"colab-df-container\">\n",
              "    <div>\n",
              "<style scoped>\n",
              "    .dataframe tbody tr th:only-of-type {\n",
              "        vertical-align: middle;\n",
              "    }\n",
              "\n",
              "    .dataframe tbody tr th {\n",
              "        vertical-align: top;\n",
              "    }\n",
              "\n",
              "    .dataframe thead th {\n",
              "        text-align: right;\n",
              "    }\n",
              "</style>\n",
              "<table border=\"1\" class=\"dataframe\">\n",
              "  <thead>\n",
              "    <tr style=\"text-align: right;\">\n",
              "      <th></th>\n",
              "      <th>Number of active employer businesses in the private sector</th>\n",
              "      <th>Number of entrants</th>\n",
              "      <th>Number of exits</th>\n",
              "      <th>Entry rate</th>\n",
              "      <th>Exit rate</th>\n",
              "      <th>Employment</th>\n",
              "      <th>Gross employment creation by entrants</th>\n",
              "      <th>Gross employment destruction by exits</th>\n",
              "      <th>Employment creation rate by entries</th>\n",
              "      <th>Employment destruction rate by exits</th>\n",
              "    </tr>\n",
              "  </thead>\n",
              "  <tbody>\n",
              "    <tr>\n",
              "      <th>count</th>\n",
              "      <td>8.000000e+01</td>\n",
              "      <td>76.000000</td>\n",
              "      <td>80.000000</td>\n",
              "      <td>76.000000</td>\n",
              "      <td>80.000000</td>\n",
              "      <td>8.000000e+01</td>\n",
              "      <td>76.000000</td>\n",
              "      <td>80.00000</td>\n",
              "      <td>76.000000</td>\n",
              "      <td>80.000000</td>\n",
              "    </tr>\n",
              "    <tr>\n",
              "      <th>mean</th>\n",
              "      <td>1.030667e+06</td>\n",
              "      <td>138037.894737</td>\n",
              "      <td>122452.625000</td>\n",
              "      <td>13.375789</td>\n",
              "      <td>11.940125</td>\n",
              "      <td>1.163842e+07</td>\n",
              "      <td>207263.026316</td>\n",
              "      <td>174654.00000</td>\n",
              "      <td>1.798026</td>\n",
              "      <td>1.532625</td>\n",
              "    </tr>\n",
              "    <tr>\n",
              "      <th>std</th>\n",
              "      <td>7.824214e+04</td>\n",
              "      <td>7992.684208</td>\n",
              "      <td>5360.143523</td>\n",
              "      <td>1.074290</td>\n",
              "      <td>0.637488</td>\n",
              "      <td>8.684885e+05</td>\n",
              "      <td>39647.409365</td>\n",
              "      <td>42662.82862</td>\n",
              "      <td>0.457369</td>\n",
              "      <td>0.492734</td>\n",
              "    </tr>\n",
              "    <tr>\n",
              "      <th>min</th>\n",
              "      <td>8.884000e+05</td>\n",
              "      <td>115380.000000</td>\n",
              "      <td>109860.000000</td>\n",
              "      <td>10.650000</td>\n",
              "      <td>11.020000</td>\n",
              "      <td>9.956320e+06</td>\n",
              "      <td>150250.000000</td>\n",
              "      <td>130480.00000</td>\n",
              "      <td>1.220000</td>\n",
              "      <td>1.070000</td>\n",
              "    </tr>\n",
              "    <tr>\n",
              "      <th>25%</th>\n",
              "      <td>9.646100e+05</td>\n",
              "      <td>134622.500000</td>\n",
              "      <td>119192.500000</td>\n",
              "      <td>12.547500</td>\n",
              "      <td>11.430000</td>\n",
              "      <td>1.110386e+07</td>\n",
              "      <td>177477.500000</td>\n",
              "      <td>147790.00000</td>\n",
              "      <td>1.440000</td>\n",
              "      <td>1.210000</td>\n",
              "    </tr>\n",
              "    <tr>\n",
              "      <th>50%</th>\n",
              "      <td>1.046420e+06</td>\n",
              "      <td>138805.000000</td>\n",
              "      <td>123585.000000</td>\n",
              "      <td>13.140000</td>\n",
              "      <td>11.730000</td>\n",
              "      <td>1.165222e+07</td>\n",
              "      <td>185775.000000</td>\n",
              "      <td>152280.00000</td>\n",
              "      <td>1.555000</td>\n",
              "      <td>1.305000</td>\n",
              "    </tr>\n",
              "    <tr>\n",
              "      <th>75%</th>\n",
              "      <td>1.100228e+06</td>\n",
              "      <td>144282.500000</td>\n",
              "      <td>125992.500000</td>\n",
              "      <td>14.210000</td>\n",
              "      <td>12.377500</td>\n",
              "      <td>1.226843e+07</td>\n",
              "      <td>247885.000000</td>\n",
              "      <td>189040.00000</td>\n",
              "      <td>2.295000</td>\n",
              "      <td>1.635000</td>\n",
              "    </tr>\n",
              "    <tr>\n",
              "      <th>max</th>\n",
              "      <td>1.140960e+06</td>\n",
              "      <td>155230.000000</td>\n",
              "      <td>134170.000000</td>\n",
              "      <td>15.310000</td>\n",
              "      <td>13.670000</td>\n",
              "      <td>1.321410e+07</td>\n",
              "      <td>294320.000000</td>\n",
              "      <td>291160.00000</td>\n",
              "      <td>2.750000</td>\n",
              "      <td>2.920000</td>\n",
              "    </tr>\n",
              "  </tbody>\n",
              "</table>\n",
              "</div>\n",
              "    <div class=\"colab-df-buttons\">\n",
              "\n",
              "  <div class=\"colab-df-container\">\n",
              "    <button class=\"colab-df-convert\" onclick=\"convertToInteractive('df-29c2653a-71d2-4680-af3c-dd6f61407e9a')\"\n",
              "            title=\"Convert this dataframe to an interactive table.\"\n",
              "            style=\"display:none;\">\n",
              "\n",
              "  <svg xmlns=\"http://www.w3.org/2000/svg\" height=\"24px\" viewBox=\"0 -960 960 960\">\n",
              "    <path d=\"M120-120v-720h720v720H120Zm60-500h600v-160H180v160Zm220 220h160v-160H400v160Zm0 220h160v-160H400v160ZM180-400h160v-160H180v160Zm440 0h160v-160H620v160ZM180-180h160v-160H180v160Zm440 0h160v-160H620v160Z\"/>\n",
              "  </svg>\n",
              "    </button>\n",
              "\n",
              "  <style>\n",
              "    .colab-df-container {\n",
              "      display:flex;\n",
              "      gap: 12px;\n",
              "    }\n",
              "\n",
              "    .colab-df-convert {\n",
              "      background-color: #E8F0FE;\n",
              "      border: none;\n",
              "      border-radius: 50%;\n",
              "      cursor: pointer;\n",
              "      display: none;\n",
              "      fill: #1967D2;\n",
              "      height: 32px;\n",
              "      padding: 0 0 0 0;\n",
              "      width: 32px;\n",
              "    }\n",
              "\n",
              "    .colab-df-convert:hover {\n",
              "      background-color: #E2EBFA;\n",
              "      box-shadow: 0px 1px 2px rgba(60, 64, 67, 0.3), 0px 1px 3px 1px rgba(60, 64, 67, 0.15);\n",
              "      fill: #174EA6;\n",
              "    }\n",
              "\n",
              "    .colab-df-buttons div {\n",
              "      margin-bottom: 4px;\n",
              "    }\n",
              "\n",
              "    [theme=dark] .colab-df-convert {\n",
              "      background-color: #3B4455;\n",
              "      fill: #D2E3FC;\n",
              "    }\n",
              "\n",
              "    [theme=dark] .colab-df-convert:hover {\n",
              "      background-color: #434B5C;\n",
              "      box-shadow: 0px 1px 3px 1px rgba(0, 0, 0, 0.15);\n",
              "      filter: drop-shadow(0px 1px 2px rgba(0, 0, 0, 0.3));\n",
              "      fill: #FFFFFF;\n",
              "    }\n",
              "  </style>\n",
              "\n",
              "    <script>\n",
              "      const buttonEl =\n",
              "        document.querySelector('#df-29c2653a-71d2-4680-af3c-dd6f61407e9a button.colab-df-convert');\n",
              "      buttonEl.style.display =\n",
              "        google.colab.kernel.accessAllowed ? 'block' : 'none';\n",
              "\n",
              "      async function convertToInteractive(key) {\n",
              "        const element = document.querySelector('#df-29c2653a-71d2-4680-af3c-dd6f61407e9a');\n",
              "        const dataTable =\n",
              "          await google.colab.kernel.invokeFunction('convertToInteractive',\n",
              "                                                    [key], {});\n",
              "        if (!dataTable) return;\n",
              "\n",
              "        const docLinkHtml = 'Like what you see? Visit the ' +\n",
              "          '<a target=\"_blank\" href=https://colab.research.google.com/notebooks/data_table.ipynb>data table notebook</a>'\n",
              "          + ' to learn more about interactive tables.';\n",
              "        element.innerHTML = '';\n",
              "        dataTable['output_type'] = 'display_data';\n",
              "        await google.colab.output.renderOutput(dataTable, element);\n",
              "        const docLink = document.createElement('div');\n",
              "        docLink.innerHTML = docLinkHtml;\n",
              "        element.appendChild(docLink);\n",
              "      }\n",
              "    </script>\n",
              "  </div>\n",
              "\n",
              "\n",
              "<div id=\"df-942bc6c6-c8ba-426f-8d9e-42dc05906d8e\">\n",
              "  <button class=\"colab-df-quickchart\" onclick=\"quickchart('df-942bc6c6-c8ba-426f-8d9e-42dc05906d8e')\"\n",
              "            title=\"Suggest charts.\"\n",
              "            style=\"display:none;\">\n",
              "\n",
              "<svg xmlns=\"http://www.w3.org/2000/svg\" height=\"24px\"viewBox=\"0 0 24 24\"\n",
              "     width=\"24px\">\n",
              "    <g>\n",
              "        <path d=\"M19 3H5c-1.1 0-2 .9-2 2v14c0 1.1.9 2 2 2h14c1.1 0 2-.9 2-2V5c0-1.1-.9-2-2-2zM9 17H7v-7h2v7zm4 0h-2V7h2v10zm4 0h-2v-4h2v4z\"/>\n",
              "    </g>\n",
              "</svg>\n",
              "  </button>\n",
              "\n",
              "<style>\n",
              "  .colab-df-quickchart {\n",
              "      --bg-color: #E8F0FE;\n",
              "      --fill-color: #1967D2;\n",
              "      --hover-bg-color: #E2EBFA;\n",
              "      --hover-fill-color: #174EA6;\n",
              "      --disabled-fill-color: #AAA;\n",
              "      --disabled-bg-color: #DDD;\n",
              "  }\n",
              "\n",
              "  [theme=dark] .colab-df-quickchart {\n",
              "      --bg-color: #3B4455;\n",
              "      --fill-color: #D2E3FC;\n",
              "      --hover-bg-color: #434B5C;\n",
              "      --hover-fill-color: #FFFFFF;\n",
              "      --disabled-bg-color: #3B4455;\n",
              "      --disabled-fill-color: #666;\n",
              "  }\n",
              "\n",
              "  .colab-df-quickchart {\n",
              "    background-color: var(--bg-color);\n",
              "    border: none;\n",
              "    border-radius: 50%;\n",
              "    cursor: pointer;\n",
              "    display: none;\n",
              "    fill: var(--fill-color);\n",
              "    height: 32px;\n",
              "    padding: 0;\n",
              "    width: 32px;\n",
              "  }\n",
              "\n",
              "  .colab-df-quickchart:hover {\n",
              "    background-color: var(--hover-bg-color);\n",
              "    box-shadow: 0 1px 2px rgba(60, 64, 67, 0.3), 0 1px 3px 1px rgba(60, 64, 67, 0.15);\n",
              "    fill: var(--button-hover-fill-color);\n",
              "  }\n",
              "\n",
              "  .colab-df-quickchart-complete:disabled,\n",
              "  .colab-df-quickchart-complete:disabled:hover {\n",
              "    background-color: var(--disabled-bg-color);\n",
              "    fill: var(--disabled-fill-color);\n",
              "    box-shadow: none;\n",
              "  }\n",
              "\n",
              "  .colab-df-spinner {\n",
              "    border: 2px solid var(--fill-color);\n",
              "    border-color: transparent;\n",
              "    border-bottom-color: var(--fill-color);\n",
              "    animation:\n",
              "      spin 1s steps(1) infinite;\n",
              "  }\n",
              "\n",
              "  @keyframes spin {\n",
              "    0% {\n",
              "      border-color: transparent;\n",
              "      border-bottom-color: var(--fill-color);\n",
              "      border-left-color: var(--fill-color);\n",
              "    }\n",
              "    20% {\n",
              "      border-color: transparent;\n",
              "      border-left-color: var(--fill-color);\n",
              "      border-top-color: var(--fill-color);\n",
              "    }\n",
              "    30% {\n",
              "      border-color: transparent;\n",
              "      border-left-color: var(--fill-color);\n",
              "      border-top-color: var(--fill-color);\n",
              "      border-right-color: var(--fill-color);\n",
              "    }\n",
              "    40% {\n",
              "      border-color: transparent;\n",
              "      border-right-color: var(--fill-color);\n",
              "      border-top-color: var(--fill-color);\n",
              "    }\n",
              "    60% {\n",
              "      border-color: transparent;\n",
              "      border-right-color: var(--fill-color);\n",
              "    }\n",
              "    80% {\n",
              "      border-color: transparent;\n",
              "      border-right-color: var(--fill-color);\n",
              "      border-bottom-color: var(--fill-color);\n",
              "    }\n",
              "    90% {\n",
              "      border-color: transparent;\n",
              "      border-bottom-color: var(--fill-color);\n",
              "    }\n",
              "  }\n",
              "</style>\n",
              "\n",
              "  <script>\n",
              "    async function quickchart(key) {\n",
              "      const quickchartButtonEl =\n",
              "        document.querySelector('#' + key + ' button');\n",
              "      quickchartButtonEl.disabled = true;  // To prevent multiple clicks.\n",
              "      quickchartButtonEl.classList.add('colab-df-spinner');\n",
              "      try {\n",
              "        const charts = await google.colab.kernel.invokeFunction(\n",
              "            'suggestCharts', [key], {});\n",
              "      } catch (error) {\n",
              "        console.error('Error during call to suggestCharts:', error);\n",
              "      }\n",
              "      quickchartButtonEl.classList.remove('colab-df-spinner');\n",
              "      quickchartButtonEl.classList.add('colab-df-quickchart-complete');\n",
              "    }\n",
              "    (() => {\n",
              "      let quickchartButtonEl =\n",
              "        document.querySelector('#df-942bc6c6-c8ba-426f-8d9e-42dc05906d8e button');\n",
              "      quickchartButtonEl.style.display =\n",
              "        google.colab.kernel.accessAllowed ? 'block' : 'none';\n",
              "    })();\n",
              "  </script>\n",
              "</div>\n",
              "    </div>\n",
              "  </div>\n"
            ]
          },
          "metadata": {},
          "execution_count": 2
        }
      ]
    },
    {
      "cell_type": "markdown",
      "source": [
        "Data cleaning (Handling missing values)\n"
      ],
      "metadata": {
        "id": "bD0cKjqz8thF"
      }
    },
    {
      "cell_type": "code",
      "source": [
        "missing_values_entry_exit = exit_entry_data.isnull().sum()\n",
        "print(missing_values_entry_exit)"
      ],
      "metadata": {
        "colab": {
          "base_uri": "https://localhost:8080/"
        },
        "id": "PrJUcSFR3DU4",
        "outputId": "a0fce8ce-e5c4-4c81-b5be-98e1cbe15177"
      },
      "execution_count": 3,
      "outputs": [
        {
          "output_type": "stream",
          "name": "stdout",
          "text": [
            "Date                                                          0\n",
            "Number of active employer businesses in the private sector    0\n",
            "Number of entrants                                            4\n",
            "Number of exits                                               0\n",
            "Entry rate                                                    4\n",
            "Exit rate                                                     0\n",
            "Employment                                                    0\n",
            "Gross employment creation by entrants                         4\n",
            "Gross employment destruction by exits                         0\n",
            "Employment creation rate by entries                           4\n",
            "Employment destruction rate by exits                          0\n",
            "dtype: int64\n"
          ]
        }
      ]
    },
    {
      "cell_type": "code",
      "source": [
        "columns_with_missing_data = exit_entry_data.columns[exit_entry_data.isnull().any()]\n",
        "\n",
        "for column in columns_with_missing_data:\n",
        "    mean_value = exit_entry_data[column].mean()\n",
        "    exit_entry_data[column].fillna(mean_value, inplace=True)\n",
        "\n",
        "print(exit_entry_data.head())"
      ],
      "metadata": {
        "colab": {
          "base_uri": "https://localhost:8080/"
        },
        "id": "8xU1-HEs5nZG",
        "outputId": "3cf00c79-bca9-4cc4-e4e2-e1ad99c71679"
      },
      "execution_count": 4,
      "outputs": [
        {
          "output_type": "stream",
          "name": "stdout",
          "text": [
            "      Date  Number of active employer businesses in the private sector  \\\n",
            "0  Q1 2000                                             888400            \n",
            "1  Q2 2000                                             892900            \n",
            "2  Q3 2000                                             899900            \n",
            "3  Q4 2000                                             897500            \n",
            "4  Q1 2001                                             902720            \n",
            "\n",
            "   Number of entrants  Number of exits  Entry rate  Exit rate  Employment  \\\n",
            "0       138037.894737           121480   13.375789      13.67     9956320   \n",
            "1       138037.894737           116970   13.375789      13.13    10061210   \n",
            "2       138037.894737           119660   13.375789      13.35    10113390   \n",
            "3       138037.894737           109860   13.375789      12.22    10258430   \n",
            "4       130600.000000           112850   14.510000      12.54    10307300   \n",
            "\n",
            "   Gross employment creation by entrants  \\\n",
            "0                          207263.026316   \n",
            "1                          207263.026316   \n",
            "2                          207263.026316   \n",
            "3                          207263.026316   \n",
            "4                          282290.000000   \n",
            "\n",
            "   Gross employment destruction by exits  Employment creation rate by entries  \\\n",
            "0                                 291160                             1.798026   \n",
            "1                                 268970                             1.798026   \n",
            "2                                 285120                             1.798026   \n",
            "3                                 281370                             1.798026   \n",
            "4                                 285590                             2.750000   \n",
            "\n",
            "   Employment destruction rate by exits  \n",
            "0                                  2.92  \n",
            "1                                  2.69  \n",
            "2                                  2.83  \n",
            "3                                  2.76  \n",
            "4                                  2.78  \n"
          ]
        }
      ]
    },
    {
      "cell_type": "code",
      "source": [
        "unemployment_data = pd.read_excel('/content/drive/MyDrive/project data/unemployment_data.xlsx')\n",
        "unemployment_data.head()\n",
        "unemployment_data.info()\n",
        "unemployment_data.describe()\n",
        "missing_data = unemployment_data.isnull().sum()\n",
        "print(missing_data)"
      ],
      "metadata": {
        "colab": {
          "base_uri": "https://localhost:8080/"
        },
        "id": "71dylEJP6iTA",
        "outputId": "5a136be2-35db-4a46-998a-d398176d7dc9"
      },
      "execution_count": 5,
      "outputs": [
        {
          "output_type": "stream",
          "name": "stdout",
          "text": [
            "<class 'pandas.core.frame.DataFrame'>\n",
            "RangeIndex: 94 entries, 0 to 93\n",
            "Data columns (total 2 columns):\n",
            " #   Column             Non-Null Count  Dtype  \n",
            "---  ------             --------------  -----  \n",
            " 0   Date               94 non-null     object \n",
            " 1   Unemployment Rate  94 non-null     float64\n",
            "dtypes: float64(1), object(1)\n",
            "memory usage: 1.6+ KB\n",
            "Date                 0\n",
            "Unemployment Rate    0\n",
            "dtype: int64\n"
          ]
        }
      ]
    },
    {
      "cell_type": "code",
      "source": [
        "unemployment_data = pd.DataFrame(unemployment_data)\n",
        "unemployment_data['Date'] = pd.to_datetime(unemployment_data['Date'])\n",
        "\n",
        "unemployment_data.set_index('Date', inplace=True)\n",
        "unemployment_quarterly = unemployment_data.resample('Q').mean()\n",
        "unemployment_quarterly.reset_index(inplace=True)\n",
        "\n",
        "unemployment_quarterly['Date'] = unemployment_quarterly['Date'].dt.to_period(\"Q\").dt.start_time\n"
      ],
      "metadata": {
        "id": "NcgQIB-dJRiW"
      },
      "execution_count": 6,
      "outputs": []
    },
    {
      "cell_type": "code",
      "source": [
        "interest_rate_data = pd.read_excel('/content/drive/MyDrive/project data/interest_rate_data.xlsx')\n",
        "interest_rate_data.head()\n",
        "interest_rate_data.info()\n",
        "interest_rate_data.describe()\n",
        "missing_data = interest_rate_data.isnull().sum()\n",
        "print(missing_data)"
      ],
      "metadata": {
        "colab": {
          "base_uri": "https://localhost:8080/"
        },
        "id": "hyv7QS1l7Mr1",
        "outputId": "395d2a02-9784-4504-bddb-7439e8c449e7"
      },
      "execution_count": 7,
      "outputs": [
        {
          "output_type": "stream",
          "name": "stdout",
          "text": [
            "<class 'pandas.core.frame.DataFrame'>\n",
            "RangeIndex: 94 entries, 0 to 93\n",
            "Data columns (total 2 columns):\n",
            " #   Column                   Non-Null Count  Dtype  \n",
            "---  ------                   --------------  -----  \n",
            " 0   Date                     94 non-null     object \n",
            " 1   Long Term Interest Rate  94 non-null     float64\n",
            "dtypes: float64(1), object(1)\n",
            "memory usage: 1.6+ KB\n",
            "Date                       0\n",
            "Long Term Interest Rate    0\n",
            "dtype: int64\n"
          ]
        }
      ]
    },
    {
      "cell_type": "code",
      "source": [
        "interest_rate_data = pd.DataFrame(interest_rate_data)\n",
        "interest_rate_data['Date'] = pd.to_datetime(interest_rate_data['Date'])\n",
        "\n",
        "interest_rate_data['Date'] = interest_rate_data['Date'].dt.to_period(\"Q\").dt.start_time\n",
        "print(interest_rate_data)"
      ],
      "metadata": {
        "id": "6yKWOMe_aPjk",
        "outputId": "a057119f-bfe0-4dd5-9633-3c19b49b27b6",
        "colab": {
          "base_uri": "https://localhost:8080/"
        }
      },
      "execution_count": 8,
      "outputs": [
        {
          "output_type": "stream",
          "name": "stdout",
          "text": [
            "         Date  Long Term Interest Rate\n",
            "0  2000-01-01                 6.286111\n",
            "1  2000-04-01                 6.011555\n",
            "2  2000-07-01                 5.786455\n",
            "3  2000-10-01                 5.617527\n",
            "4  2001-01-01                 5.383333\n",
            "..        ...                      ...\n",
            "89 2022-04-01                 2.979342\n",
            "90 2022-07-01                 3.008697\n",
            "91 2022-10-01                 3.162730\n",
            "92 2023-01-01                 3.035103\n",
            "93 2023-04-01                 3.097703\n",
            "\n",
            "[94 rows x 2 columns]\n"
          ]
        }
      ]
    },
    {
      "cell_type": "code",
      "source": [
        "gdp_data = pd.read_excel('/content/drive/MyDrive/project data/gdp_data.xlsx')\n",
        "gdp_data.head()\n",
        "gdp_data.info()\n",
        "gdp_data.describe()\n",
        "missing_data = gdp_data.isnull().sum()\n",
        "print(missing_data)"
      ],
      "metadata": {
        "colab": {
          "base_uri": "https://localhost:8080/"
        },
        "id": "Dn1QreO_7bU8",
        "outputId": "a573386b-b16c-44f0-fba9-26bf4693d1a6"
      },
      "execution_count": 9,
      "outputs": [
        {
          "output_type": "stream",
          "name": "stdout",
          "text": [
            "<class 'pandas.core.frame.DataFrame'>\n",
            "RangeIndex: 94 entries, 0 to 93\n",
            "Data columns (total 9 columns):\n",
            " #   Column                                   Non-Null Count  Dtype \n",
            "---  ------                                   --------------  ----- \n",
            " 0   Date                                     94 non-null     object\n",
            " 1   Final consumption expenditure            94 non-null     int64 \n",
            " 2   Household final consumption expenditure  94 non-null     int64 \n",
            " 3   Goods                                    94 non-null     int64 \n",
            " 4   Services                                 94 non-null     int64 \n",
            " 5   Exports of goods and services            94 non-null     int64 \n",
            " 6   Less: imports of goods and services      94 non-null     int64 \n",
            " 7   Gross domestic product at market prices  94 non-null     int64 \n",
            " 8   Final domestic demand                    94 non-null     int64 \n",
            "dtypes: int64(8), object(1)\n",
            "memory usage: 6.7+ KB\n",
            "Date                                       0\n",
            "Final consumption expenditure              0\n",
            "Household final consumption expenditure    0\n",
            "Goods                                      0\n",
            "Services                                   0\n",
            "Exports of goods and services              0\n",
            "Less: imports of goods and services        0\n",
            "Gross domestic product at market prices    0\n",
            "Final domestic demand                      0\n",
            "dtype: int64\n"
          ]
        }
      ]
    },
    {
      "cell_type": "code",
      "source": [
        "print(gdp_data.columns)"
      ],
      "metadata": {
        "colab": {
          "base_uri": "https://localhost:8080/"
        },
        "id": "oBmPrbeig11J",
        "outputId": "d5137cad-d64d-4758-83b6-8f8dce9bcb12"
      },
      "execution_count": 10,
      "outputs": [
        {
          "output_type": "stream",
          "name": "stdout",
          "text": [
            "Index(['Date', 'Final consumption expenditure',\n",
            "       'Household final consumption expenditure', 'Goods', 'Services',\n",
            "       'Exports of goods and services', 'Less: imports of goods and services',\n",
            "       'Gross domestic product at market prices', 'Final domestic demand'],\n",
            "      dtype='object')\n"
          ]
        }
      ]
    },
    {
      "cell_type": "code",
      "source": [
        "cpi_data = pd.read_excel('/content/drive/MyDrive/project data/cpi_data.xlsx')\n",
        "cpi_data.head()\n",
        "cpi_data.info()\n",
        "cpi_data.describe()\n",
        "missing_data = cpi_data.isnull().sum()\n",
        "print(missing_data)"
      ],
      "metadata": {
        "id": "5y7zlNeN8P4U",
        "colab": {
          "base_uri": "https://localhost:8080/"
        },
        "outputId": "a581198f-a5b1-42b8-b1bc-875beda50f06"
      },
      "execution_count": 11,
      "outputs": [
        {
          "output_type": "stream",
          "name": "stdout",
          "text": [
            "<class 'pandas.core.frame.DataFrame'>\n",
            "RangeIndex: 284 entries, 0 to 283\n",
            "Data columns (total 2 columns):\n",
            " #   Column          Non-Null Count  Dtype         \n",
            "---  ------          --------------  -----         \n",
            " 0   Date            284 non-null    datetime64[ns]\n",
            " 1   Inflation Rate  284 non-null    float64       \n",
            "dtypes: datetime64[ns](1), float64(1)\n",
            "memory usage: 4.6 KB\n",
            "Date              0\n",
            "Inflation Rate    0\n",
            "dtype: int64\n"
          ]
        }
      ]
    },
    {
      "cell_type": "code",
      "source": [
        "cpi_data['Date'] = pd.to_datetime(cpi_data['Date'])\n",
        "cpi_data.set_index('Date', inplace=True)\n",
        "\n",
        "quarterly_cpi_data = cpi_data[\"Inflation Rate\"].resample('Q').mean()\n",
        "\n",
        "def format_quarter(date):\n",
        "    quarter = (date.month-1)//3 + 1  # calculate quarter\n",
        "    return f\"Q{quarter} {date.year}\"\n",
        "\n",
        "quarterly_cpi_data.index = quarterly_cpi_data.index.map(format_quarter)\n",
        "print(quarterly_cpi_data.head())"
      ],
      "metadata": {
        "id": "L-km0qi5SRHm",
        "colab": {
          "base_uri": "https://localhost:8080/"
        },
        "outputId": "063f2421-ea3c-45fc-8a98-9f915637ce6c"
      },
      "execution_count": 12,
      "outputs": [
        {
          "output_type": "stream",
          "name": "stdout",
          "text": [
            "Date\n",
            "Q1 2000    1.666667\n",
            "Q2 2000    1.633333\n",
            "Q3 2000    1.833333\n",
            "Q4 2000    1.966667\n",
            "Q1 2001    2.333333\n",
            "Name: Inflation Rate, dtype: float64\n"
          ]
        }
      ]
    },
    {
      "cell_type": "markdown",
      "source": [
        "# **Data Integration**"
      ],
      "metadata": {
        "id": "pIUxcT8D8w0d"
      }
    },
    {
      "cell_type": "code",
      "source": [
        "def quarter_to_date(date_val):\n",
        "    # If it's already a Timestamp, return it\n",
        "    if isinstance(date_val, pd.Timestamp):\n",
        "        return date_val\n",
        "\n",
        "    # Split the quarter and year\n",
        "    quarter, year = date_val.split()\n",
        "    # Map quarters to months\n",
        "    month_map = {\n",
        "        'Q1': '01',\n",
        "        'Q2': '04',\n",
        "        'Q3': '07',\n",
        "        'Q4': '10'\n",
        "    }\n",
        "    # Return as YYYY-MM-DD format\n",
        "    return f\"{year}-{month_map[quarter]}-01\"\n",
        "\n",
        "# Convert the columns:\n",
        "exit_entry_data['Date'] = exit_entry_data['Date'].apply(quarter_to_date).astype('datetime64[ns]')\n",
        "unemployment_quarterly['Date'] = unemployment_quarterly['Date'].apply(quarter_to_date).astype('datetime64[ns]')\n",
        "interest_rate_data['Date'] = interest_rate_data['Date'].apply(quarter_to_date).astype('datetime64[ns]')\n",
        "gdp_data['Date'] = gdp_data['Date'].apply(quarter_to_date).astype('datetime64[ns]')\n",
        "if isinstance(quarterly_cpi_data, pd.DataFrame):\n",
        "    quarterly_cpi_data['Date'] = quarterly_cpi_data['Date'].apply(quarter_to_date).astype('datetime64[ns]')\n",
        "\n"
      ],
      "metadata": {
        "id": "rPyQZjtrlB7w"
      },
      "execution_count": 13,
      "outputs": []
    },
    {
      "cell_type": "code",
      "source": [
        "merged_data = exit_entry_data.merge(unemployment_quarterly, on='Date', how='outer') \\\n",
        "                             .merge(interest_rate_data, on='Date', how='outer') \\\n",
        "                             .merge(gdp_data, on='Date', how='outer')\n",
        "if isinstance(quarterly_cpi_data, pd.DataFrame):\n",
        "    merged_data = merged_data.merge(quarterly_cpi_data, on='Date', how='outer')\n",
        "\n",
        "print(merged_data.head())\n"
      ],
      "metadata": {
        "colab": {
          "base_uri": "https://localhost:8080/"
        },
        "id": "YyHK1hB_lQct",
        "outputId": "afb04b61-a8b5-4d57-a8c0-d8f58e7c243a"
      },
      "execution_count": 14,
      "outputs": [
        {
          "output_type": "stream",
          "name": "stdout",
          "text": [
            "        Date  Number of active employer businesses in the private sector  \\\n",
            "0 2000-01-01                                           888400.0            \n",
            "1 2000-04-01                                           892900.0            \n",
            "2 2000-07-01                                           899900.0            \n",
            "3 2000-10-01                                           897500.0            \n",
            "4 2001-01-01                                           902720.0            \n",
            "\n",
            "   Number of entrants  Number of exits  Entry rate  Exit rate  Employment  \\\n",
            "0       138037.894737         121480.0   13.375789      13.67   9956320.0   \n",
            "1       138037.894737         116970.0   13.375789      13.13  10061210.0   \n",
            "2       138037.894737         119660.0   13.375789      13.35  10113390.0   \n",
            "3       138037.894737         109860.0   13.375789      12.22  10258430.0   \n",
            "4       130600.000000         112850.0   14.510000      12.54  10307300.0   \n",
            "\n",
            "   Gross employment creation by entrants  \\\n",
            "0                          207263.026316   \n",
            "1                          207263.026316   \n",
            "2                          207263.026316   \n",
            "3                          207263.026316   \n",
            "4                          282290.000000   \n",
            "\n",
            "   Gross employment destruction by exits  Employment creation rate by entries  \\\n",
            "0                               291160.0                             1.798026   \n",
            "1                               268970.0                             1.798026   \n",
            "2                               285120.0                             1.798026   \n",
            "3                               281370.0                             1.798026   \n",
            "4                               285590.0                             2.750000   \n",
            "\n",
            "   ...  Unemployment Rate  Long Term Interest Rate  \\\n",
            "0  ...           6.866667                 6.286111   \n",
            "1  ...           6.666667                 6.011555   \n",
            "2  ...           6.900000                 5.786455   \n",
            "3  ...           6.900000                 5.617527   \n",
            "4  ...           7.000000                 5.383333   \n",
            "\n",
            "   Final consumption expenditure  Household final consumption expenditure  \\\n",
            "0                        1000622                                   692463   \n",
            "1                        1009895                                   698483   \n",
            "2                        1020682                                   707365   \n",
            "3                        1023987                                   708579   \n",
            "4                        1033309                                   714392   \n",
            "\n",
            "    Goods  Services  Exports of goods and services  \\\n",
            "0  319402    372716                         537425   \n",
            "1  322149    375987                         545503   \n",
            "2  327237    379703                         549674   \n",
            "3  325135    383228                         550399   \n",
            "4  328368    385763                         540481   \n",
            "\n",
            "   Less: imports of goods and services  \\\n",
            "0                               405539   \n",
            "1                               407832   \n",
            "2                               411630   \n",
            "3                               408073   \n",
            "4                               396951   \n",
            "\n",
            "   Gross domestic product at market prices  Final domestic demand  \n",
            "0                                  1426823                1280943  \n",
            "1                                  1443782                1292158  \n",
            "2                                  1458465                1306319  \n",
            "3                                  1460962                1310899  \n",
            "4                                  1468700                1327841  \n",
            "\n",
            "[5 rows x 21 columns]\n"
          ]
        }
      ]
    },
    {
      "cell_type": "markdown",
      "source": [
        "# **Data Formatting**"
      ],
      "metadata": {
        "id": "WrjUfzf-83vv"
      }
    },
    {
      "cell_type": "code",
      "source": [
        "print(merged_data.dtypes)"
      ],
      "metadata": {
        "colab": {
          "base_uri": "https://localhost:8080/"
        },
        "id": "72YzhYeRmlGg",
        "outputId": "8415534e-ca63-45d5-8219-17eb5eed5b8e"
      },
      "execution_count": 15,
      "outputs": [
        {
          "output_type": "stream",
          "name": "stdout",
          "text": [
            "Date                                                          datetime64[ns]\n",
            "Number of active employer businesses in the private sector           float64\n",
            "Number of entrants                                                   float64\n",
            "Number of exits                                                      float64\n",
            "Entry rate                                                           float64\n",
            "Exit rate                                                            float64\n",
            "Employment                                                           float64\n",
            "Gross employment creation by entrants                                float64\n",
            "Gross employment destruction by exits                                float64\n",
            "Employment creation rate by entries                                  float64\n",
            "Employment destruction rate by exits                                 float64\n",
            "Unemployment Rate                                                    float64\n",
            "Long Term Interest Rate                                              float64\n",
            "Final consumption expenditure                                          int64\n",
            "Household final consumption expenditure                                int64\n",
            "Goods                                                                  int64\n",
            "Services                                                               int64\n",
            "Exports of goods and services                                          int64\n",
            "Less: imports of goods and services                                    int64\n",
            "Gross domestic product at market prices                                int64\n",
            "Final domestic demand                                                  int64\n",
            "dtype: object\n"
          ]
        }
      ]
    },
    {
      "cell_type": "code",
      "source": [
        "# Renaming columns for clarity and consistency\n",
        "merged_data.columns = [\n",
        "    'Date', 'Active_Employer_Businesses', 'Number_Entrants', 'Number_Exits',\n",
        "    'Entry_Rate', 'Exit_Rate', 'Employment', 'Employment_Creation_Entrants',\n",
        "    'Employment_Destruction_Exits', 'Employment_Destruction_Rate_Exits', 'Net_Employment_Creation', 'Unemployment_Rate',\n",
        "    'Long_Term_Interest_Rate', 'Final_Consumption', 'Household_Final_Consumption',\n",
        "    'Goods', 'Services', 'Exports', 'Imports', 'GDP_Market_Prices', 'Final_Domestic_Demand'\n",
        "]\n"
      ],
      "metadata": {
        "id": "rXzsz5LcmsVi"
      },
      "execution_count": 16,
      "outputs": []
    },
    {
      "cell_type": "markdown",
      "source": [
        "# **Exploratory Data Analysis (EDA)**"
      ],
      "metadata": {
        "id": "u8jjaXEQ9Ao4"
      }
    },
    {
      "cell_type": "code",
      "source": [
        "print(merged_data.isnull().sum())"
      ],
      "metadata": {
        "colab": {
          "base_uri": "https://localhost:8080/"
        },
        "id": "CUeUjMAznLYu",
        "outputId": "c0049d7e-cb47-4f67-cebb-423baccbbe3b"
      },
      "execution_count": 17,
      "outputs": [
        {
          "output_type": "stream",
          "name": "stdout",
          "text": [
            "Date                                  0\n",
            "Active_Employer_Businesses           14\n",
            "Number_Entrants                      14\n",
            "Number_Exits                         14\n",
            "Entry_Rate                           14\n",
            "Exit_Rate                            14\n",
            "Employment                           14\n",
            "Employment_Creation_Entrants         14\n",
            "Employment_Destruction_Exits         14\n",
            "Employment_Destruction_Rate_Exits    14\n",
            "Net_Employment_Creation              14\n",
            "Unemployment_Rate                     0\n",
            "Long_Term_Interest_Rate               0\n",
            "Final_Consumption                     0\n",
            "Household_Final_Consumption           0\n",
            "Goods                                 0\n",
            "Services                              0\n",
            "Exports                               0\n",
            "Imports                               0\n",
            "GDP_Market_Prices                     0\n",
            "Final_Domestic_Demand                 0\n",
            "dtype: int64\n"
          ]
        }
      ]
    },
    {
      "cell_type": "code",
      "source": [
        "import matplotlib.pyplot as plt\n",
        "import seaborn as sns\n",
        "\n",
        "plt.figure(figsize=(15, 7))\n",
        "sns.heatmap(merged_data.isnull(), cbar=False, cmap='viridis', yticklabels=False)\n",
        "plt.title('Missing Data Pattern')\n",
        "plt.ylabel('Rows / Time Period')\n",
        "plt.xlabel('Columns')\n",
        "plt.show()\n"
      ],
      "metadata": {
        "id": "qKVeVty146Q4",
        "colab": {
          "base_uri": "https://localhost:8080/",
          "height": 882
        },
        "outputId": "083fd9c2-debf-45b2-b8f2-64adf802e511"
      },
      "execution_count": 18,
      "outputs": [
        {
          "output_type": "display_data",
          "data": {
            "text/plain": [
              "<Figure size 1500x700 with 1 Axes>"
            ],
            "image/png": "[encoded data removed]"
          },
          "metadata": {}
        }
      ]
    },
    {
      "cell_type": "code",
      "source": [
        "merged_data = merged_data[merged_data['Date'] <= '2019-12-01']\n",
        "\n",
        "merged_data = merged_data.fillna(merged_data.mean())\n",
        "print(merged_data)"
      ],
      "metadata": {
        "id": "GFusfEoM69T0",
        "colab": {
          "base_uri": "https://localhost:8080/"
        },
        "outputId": "9e5307a0-91b9-474d-d8b3-5ccb1a414490"
      },
      "execution_count": 19,
      "outputs": [
        {
          "output_type": "stream",
          "name": "stdout",
          "text": [
            "         Date  Active_Employer_Businesses  Number_Entrants  Number_Exits  \\\n",
            "0  2000-01-01                    888400.0    138037.894737      121480.0   \n",
            "1  2000-04-01                    892900.0    138037.894737      116970.0   \n",
            "2  2000-07-01                    899900.0    138037.894737      119660.0   \n",
            "3  2000-10-01                    897500.0    138037.894737      109860.0   \n",
            "4  2001-01-01                    902720.0    130600.000000      112850.0   \n",
            "..        ...                         ...              ...           ...   \n",
            "75 2018-10-01                   1134110.0    147000.000000      125470.0   \n",
            "76 2019-01-01                   1135810.0    146410.000000      127940.0   \n",
            "77 2019-04-01                   1135640.0    141260.000000      126280.0   \n",
            "78 2019-07-01                   1138080.0    144670.000000      125820.0   \n",
            "79 2019-10-01                   1140960.0    142110.000000      125560.0   \n",
            "\n",
            "    Entry_Rate  Exit_Rate  Employment  Employment_Creation_Entrants  \\\n",
            "0    13.375789      13.67   9956320.0                 207263.026316   \n",
            "1    13.375789      13.13  10061210.0                 207263.026316   \n",
            "2    13.375789      13.35  10113390.0                 207263.026316   \n",
            "3    13.375789      12.22  10258430.0                 207263.026316   \n",
            "4    14.510000      12.54  10307300.0                 282290.000000   \n",
            "..         ...        ...         ...                           ...   \n",
            "75   12.990000      11.09  12984480.0                 187170.000000   \n",
            "76   12.900000      11.27  13066190.0                 187050.000000   \n",
            "77   12.440000      11.12  13131780.0                 192230.000000   \n",
            "78   12.730000      11.07  13187400.0                 186120.000000   \n",
            "79   12.470000      11.02  13214100.0                 185840.000000   \n",
            "\n",
            "    Employment_Destruction_Exits  Employment_Destruction_Rate_Exits  ...  \\\n",
            "0                       291160.0                           1.798026  ...   \n",
            "1                       268970.0                           1.798026  ...   \n",
            "2                       285120.0                           1.798026  ...   \n",
            "3                       281370.0                           1.798026  ...   \n",
            "4                       285590.0                           2.750000  ...   \n",
            "..                           ...                                ...  ...   \n",
            "75                      149510.0                           1.440000  ...   \n",
            "76                      151540.0                           1.440000  ...   \n",
            "77                      152560.0                           1.470000  ...   \n",
            "78                      149820.0                           1.410000  ...   \n",
            "79                      149410.0                           1.410000  ...   \n",
            "\n",
            "    Unemployment_Rate  Long_Term_Interest_Rate  Final_Consumption  \\\n",
            "0            6.866667                 6.286111            1000622   \n",
            "1            6.666667                 6.011555            1009895   \n",
            "2            6.900000                 5.786455            1020682   \n",
            "3            6.900000                 5.617527            1023987   \n",
            "4            7.000000                 5.383333            1033309   \n",
            "..                ...                      ...                ...   \n",
            "75           5.700000                 2.318050            1623998   \n",
            "76           5.800000                 1.857795            1628150   \n",
            "77           5.566667                 1.616548            1629833   \n",
            "78           5.733333                 1.362776            1638891   \n",
            "79           5.700000                 1.517848            1651833   \n",
            "\n",
            "    Household_Final_Consumption   Goods  Services  Exports  Imports  \\\n",
            "0                        692463  319402    372716   537425   405539   \n",
            "1                        698483  322149    375987   545503   407832   \n",
            "2                        707365  327237    379703   549674   411630   \n",
            "3                        708579  325135    383228   550399   408073   \n",
            "4                        714392  328368    385763   540481   396951   \n",
            "..                          ...     ...       ...      ...      ...   \n",
            "75                      1172238  527820    644533   671399   660467   \n",
            "76                      1178479  529944    648619   671718   680847   \n",
            "77                      1180682  531047    649724   692929   675456   \n",
            "78                      1185807  530970    654815   694918   674642   \n",
            "79                      1193992  531085    662719   682411   666376   \n",
            "\n",
            "    GDP_Market_Prices  Final_Domestic_Demand  \n",
            "0             1426823                1280943  \n",
            "1             1443782                1292158  \n",
            "2             1458465                1306319  \n",
            "3             1460962                1310899  \n",
            "4             1468700                1327841  \n",
            "..                ...                    ...  \n",
            "75            2087359                2059395  \n",
            "76            2088836                2070807  \n",
            "77            2109476                2072492  \n",
            "78            2117366                2091625  \n",
            "79            2124287                2100426  \n",
            "\n",
            "[80 rows x 21 columns]\n"
          ]
        },
        {
          "output_type": "stream",
          "name": "stderr",
          "text": [
            "<ipython-input-19-fb8ee4ade474>:3: FutureWarning: DataFrame.mean and DataFrame.median with numeric_only=None will include datetime64 and datetime64tz columns in a future version.\n",
            "  merged_data = merged_data.fillna(merged_data.mean())\n"
          ]
        }
      ]
    },
    {
      "cell_type": "code",
      "source": [
        "print(merged_data.describe())"
      ],
      "metadata": {
        "id": "2hay0qlk3-Vb",
        "colab": {
          "base_uri": "https://localhost:8080/"
        },
        "outputId": "462570aa-a485-4538-d78d-e1e6ee164634"
      },
      "execution_count": 20,
      "outputs": [
        {
          "output_type": "stream",
          "name": "stdout",
          "text": [
            "       Active_Employer_Businesses  Number_Entrants   Number_Exits  Entry_Rate  \\\n",
            "count                8.000000e+01        80.000000      80.000000   80.000000   \n",
            "mean                 1.030667e+06    138037.894737  122452.625000   13.375789   \n",
            "std                  7.824214e+04      7787.709453    5360.143523    1.046740   \n",
            "min                  8.884000e+05    115380.000000  109860.000000   10.650000   \n",
            "25%                  9.646100e+05    134697.500000  119192.500000   12.572500   \n",
            "50%                  1.046420e+06    138485.000000  123585.000000   13.250000   \n",
            "75%                  1.100228e+06    143335.000000  125992.500000   13.995000   \n",
            "max                  1.140960e+06    155230.000000  134170.000000   15.310000   \n",
            "\n",
            "       Exit_Rate    Employment  Employment_Creation_Entrants  \\\n",
            "count  80.000000  8.000000e+01                     80.000000   \n",
            "mean   11.940125  1.163842e+07                 207263.026316   \n",
            "std     0.637488  8.684885e+05                  38630.639804   \n",
            "min    11.020000  9.956320e+06                 150250.000000   \n",
            "25%    11.430000  1.110386e+07                 177742.500000   \n",
            "50%    11.730000  1.165222e+07                 186490.000000   \n",
            "75%    12.377500  1.226843e+07                 243375.000000   \n",
            "max    13.670000  1.321410e+07                 294320.000000   \n",
            "\n",
            "       Employment_Destruction_Exits  Employment_Destruction_Rate_Exits  \\\n",
            "count                      80.00000                          80.000000   \n",
            "mean                   174654.00000                           1.798026   \n",
            "std                     42662.82862                           0.445640   \n",
            "min                    130480.00000                           1.220000   \n",
            "25%                    147790.00000                           1.440000   \n",
            "50%                    152280.00000                           1.575000   \n",
            "75%                    189040.00000                           2.290000   \n",
            "max                    291160.00000                           2.750000   \n",
            "\n",
            "       Net_Employment_Creation  Unemployment_Rate  Long_Term_Interest_Rate  \\\n",
            "count                80.000000          80.000000                80.000000   \n",
            "mean                  1.532625           6.996250                 3.313763   \n",
            "std                   0.492734           0.723661                 1.440030   \n",
            "min                   1.070000           5.566667                 1.059973   \n",
            "25%                   1.210000           6.525000                 1.959990   \n",
            "50%                   1.305000           7.016667                 3.353728   \n",
            "75%                   1.635000           7.441667                 4.437468   \n",
            "max                   2.920000           8.700000                 6.286111   \n",
            "\n",
            "       Final_Consumption  Household_Final_Consumption          Goods  \\\n",
            "count       8.000000e+01                 8.000000e+01      80.000000   \n",
            "mean        1.327223e+06                 9.411541e+05  426086.625000   \n",
            "std         1.897508e+05                 1.488006e+05   63124.175622   \n",
            "min         1.000622e+06                 6.924630e+05  319402.000000   \n",
            "25%         1.158297e+06                 8.102415e+05  371797.250000   \n",
            "50%         1.338665e+06                 9.412625e+05  425548.500000   \n",
            "75%         1.474277e+06                 1.064006e+06  477026.250000   \n",
            "max         1.651833e+06                 1.193992e+06  531085.000000   \n",
            "\n",
            "            Services        Exports        Imports  GDP_Market_Prices  \\\n",
            "count      80.000000      80.000000      80.000000       8.000000e+01   \n",
            "mean   514985.187500  574571.500000  536848.600000       1.765141e+06   \n",
            "std     85950.863783   52893.469886   92988.501579       1.934576e+05   \n",
            "min    372716.000000  468265.000000  376190.000000       1.426823e+06   \n",
            "25%    438218.500000  537198.750000  458178.000000       1.619778e+06   \n",
            "50%    515702.500000  563232.500000  547183.500000       1.736018e+06   \n",
            "75%    586964.000000  616565.750000  618349.500000       1.934264e+06   \n",
            "max    662719.000000  694918.000000  683445.000000       2.124287e+06   \n",
            "\n",
            "       Final_Domestic_Demand  \n",
            "count           8.000000e+01  \n",
            "mean            1.720827e+06  \n",
            "std             2.418532e+05  \n",
            "min             1.280943e+06  \n",
            "25%             1.514626e+06  \n",
            "50%             1.736250e+06  \n",
            "75%             1.930402e+06  \n",
            "max             2.100426e+06  \n"
          ]
        }
      ]
    },
    {
      "cell_type": "code",
      "source": [
        "#Histograms\n",
        "merged_data.hist(figsize=(20, 15))\n",
        "plt.tight_layout()\n",
        "plt.show()"
      ],
      "metadata": {
        "id": "YlfhtvT89D7G"
      },
      "execution_count": null,
      "outputs": []
    },
    {
      "cell_type": "code",
      "source": [
        "#Time series plot\n",
        "plt.plot(merged_data['Date'], merged_data['Unemployment_Rate'])\n",
        "plt.title('Unemployment Rate Over Time')\n",
        "plt.xlabel('Date')\n",
        "plt.ylabel('Unemployment Rate')\n",
        "plt.show()"
      ],
      "metadata": {
        "id": "xLtZFG40DkdV"
      },
      "execution_count": null,
      "outputs": []
    },
    {
      "cell_type": "code",
      "source": [
        "#Correlation matrix\n",
        "correlation_matrix = merged_data.corr()\n",
        "\n",
        "import seaborn as sns\n",
        "import matplotlib.pyplot as plt\n",
        "\n",
        "plt.figure(figsize=(20, 15))\n",
        "sns.heatmap(correlation_matrix, annot=True, cmap='coolwarm', vmin=-1, vmax=1)\n",
        "plt.title(\"Correlation Matrix Heatmap\")\n",
        "plt.show()\n"
      ],
      "metadata": {
        "id": "eRL7JAduD_UH"
      },
      "execution_count": null,
      "outputs": []
    },
    {
      "cell_type": "code",
      "source": [],
      "metadata": {
        "id": "o_IBZ7T2GMef"
      },
      "execution_count": null,
      "outputs": []
    },
    {
      "cell_type": "markdown",
      "source": [
        "Hypothesis Development: Based on your EDA, start formulating hypotheses about how the unemployment rate, employment trends, inflation, and GDP might influence business entry and exit rates."
      ],
      "metadata": {
        "id": "_m3Q_jyxGM30"
      }
    },
    {
      "cell_type": "markdown",
      "source": [
        "Data Analysis: Proceed with your data analysis using appropriate statistical and machine learning techniques. This can include time series analysis, regression modeling, and predictive modeling to answer your research questions."
      ],
      "metadata": {
        "id": "g_xxwGX59H2j"
      }
    },
    {
      "cell_type": "markdown",
      "source": [
        "Interpretation: Interpret the results of your analysis and draw conclusions regarding the relationships between macroeconomic indicators and business dynamics."
      ],
      "metadata": {
        "id": "Ebz_3V0I9K-R"
      }
    },
    {
      "cell_type": "markdown",
      "source": [
        "Report Findings: Finally, present your findings in a clear and structured manner in your research paper, including data visualizations, tables, and statistical results."
      ],
      "metadata": {
        "id": "7pS5AJ7Y9NAX"
      }
    }
  ]
}